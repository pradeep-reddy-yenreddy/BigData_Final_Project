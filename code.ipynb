{
 "cells": [
  {
   "cell_type": "markdown",
   "id": "495f510a-63ba-4359-9f11-31eb59c91ba7",
   "metadata": {},
   "source": [
    "####  Big data project \n",
    "### Team Name :  Data dynamo.\n",
    "### Team members :\n",
    "#####  Meghanjali CHennupati (U30308400)\n",
    "#####  Aarsha joji (U74440593) \n",
    "#####  Shambhavi Mishra (U01040066)\n",
    "#####  Mounica Pothureddy (U96174850) \n",
    "###### Pradeep Reddy (U23954564)"
   ]
  },
  {
   "cell_type": "markdown",
   "id": "e02f5c8b-e6a9-46ee-bf33-9205df8961ef",
   "metadata": {},
   "source": [
    "##### Business problem statement :   Bank Marketing data set:\n",
    "#####  Link to the data set : https://www.kaggle.com/datasets/henriqueyamahata/bank-marketing\n",
    "#####  Data set description : The data set is related to the direct campaigns of a portuguese  banking institution . The goal is to predict whetegr the client will subscribe to the term deposit or not. The data set is related to direct marketing campaign of a portuguese banking institution. these were based on phone calls often more than once the same client required in order to access product bank term deposit yes (subscribed) or no (not subscribed)\n",
    "####  Attribute information:\n",
    "####  Age, job, Marital, Education, Default, Housing, Loan, Contact, Month, duration, Campaign, previous days, poutcome, Emp var rate, Cons price idx, Cons conf idx, Eurbo 3m, Nr Employed. Target variable is y ( subscribed - yes, not subscribed no).\n",
    "##### It is a binary classification problem.\n",
    "#### Business value:  Business Value of Bank Marketing Dataset\n",
    "\n",
    "Understanding Customer Behavior and Optimizing Marketing Strategies\n",
    "\n",
    "Overview:\n",
    "The Bank Marketing dataset provides valuable insights into customer behavior during direct marketing campaigns conducted by a Portuguese banking institution. By analyzing this data, businesses can unlock several key advantages and enhance their marketing strategies and customer relationships.\n",
    "\n",
    "1. Improved Targeted Marketing:\n",
    "\n",
    "Insight: Analyze customer demographics, job types, and marital status to identify target audience segments.\n",
    "Value: Tailor marketing campaigns specifically to customer segments, increasing the likelihood of successful conversions for term deposit subscriptions.\n",
    "2. Enhanced Customer Engagement:\n",
    "\n",
    "Insight: Study communication preferences (cellular/telephone), contact timings, and durations to understand the most effective outreach methods.\n",
    "Value: Optimize communication strategies, ensuring customers are contacted at the right time and through their preferred channels, leading to higher engagement rates.\n",
    "3. Predictive Analytics for Subscription Rates:\n",
    "\n",
    "Insight: Utilize past campaign data (previous contacts, outcomes) to build predictive models.\n",
    "Value: Predict customer subscription likelihood, allowing the bank to focus resources on leads with higher chances of conversion, maximizing the campaign's effectiveness.\n",
    "4. Customer Retention and Satisfaction:\n",
    "\n",
    "Insight: Analyze customer satisfaction levels, preferences, and past interactions.\n",
    "Value: Implement targeted retention strategies and personalized services for existing customers, reducing churn rates and enhancing overall customer satisfaction.\n",
    "5. Risk Mitigation and Fraud Detection:\n",
    "\n",
    "Insight: Utilize data on defaults, loans, and previous campaign outcomes to assess credit risk.\n",
    "Value: Implement proactive measures to mitigate risks, prevent defaults, and detect fraudulent activities, safeguarding the bank's financial interests.\n",
    "6. Product Development and Innovation:\n",
    "\n",
    "Insight: Understand customer feedback and preferences regarding banking products.\n",
    "Value: Develop innovative financial products and services aligned with customer needs, fostering customer loyalty and driving revenue through new offerings.\n",
    "7. Data-Driven Decision Making:\n",
    "Insight: Leverage comprehensive data analysis to make informed decisions.\n",
    "Value: Enable data-driven decision-making processes, ensuring marketing strategies, customer service initiatives, and product offerings are optimized for maximum effectiveness and customer satisfaction.\n",
    "In summary, the Bank Marketing dataset empowers businesses to make data-driven decisions, optimize marketing efforts, enhance customer relationships, and mitigate risks. By leveraging these insights, financial institutions can achieve higher conversion rates, improve customer retention, and drive overall business growth."
   ]
  },
  {
   "cell_type": "markdown",
   "id": "00a5729d-61ce-4f12-87ce-aa7c418d1666",
   "metadata": {},
   "source": [
    "#### Importing the necessary libraries and creating the spark context"
   ]
  },
  {
   "cell_type": "code",
   "execution_count": 1,
   "id": "65bd132f-353a-49f9-9bc8-5de3fdc79576",
   "metadata": {
    "tags": []
   },
   "outputs": [],
   "source": [
    "from pyspark.sql import SparkSession;\n",
    "from pyspark.conf import SparkConf"
   ]
  },
  {
   "cell_type": "code",
   "execution_count": 2,
   "id": "a376773b-3ac7-43ff-a6fc-0e21c7dc5947",
   "metadata": {
    "tags": []
   },
   "outputs": [
    {
     "name": "stderr",
     "output_type": "stream",
     "text": [
      "23/11/09 22:16:28 WARN Utils: Your hostname, localhost.localdomain resolves to a loopback address: 127.0.0.1; using 10.21.10.180 instead (on interface eth0)\n",
      "23/11/09 22:16:28 WARN Utils: Set SPARK_LOCAL_IP if you need to bind to another address\n",
      "Setting default log level to \"WARN\".\n",
      "To adjust logging level use sc.setLogLevel(newLevel). For SparkR, use setLogLevel(newLevel).\n",
      "23/11/09 22:16:30 WARN NativeCodeLoader: Unable to load native-hadoop library for your platform... using builtin-java classes where applicable\n"
     ]
    },
    {
     "name": "stdout",
     "output_type": "stream",
     "text": [
      "Spark Session WebUI Port: 4040\n"
     ]
    }
   ],
   "source": [
    " #datawarehouse_location points to the default location for managed databases and tables\n",
    "from os.path import abspath\n",
    "warehouse_location = abspath('spark-warehouse')\n",
    "\n",
    "spark = sparkSession = (SparkSession\n",
    "                .builder\n",
    "                .master(\"local[*]\") \n",
    "                .appName(\"Bank Marketing big data project\") \n",
    "                .config(\"hive.metastore.uris\", \"thrift://localhost:9083\", conf=SparkConf())\n",
    "                .enableHiveSupport()\n",
    "                .getOrCreate()\n",
    "                )\n",
    "# note: If you have multiple spark sessions running (like from a previous notebook you've run), \n",
    "# this spark session webUI will be on a different port than the default (4040). One way to \n",
    "# identify this part is with the following line. If there was only one spark session running, \n",
    "# this will be 4040. If it's higher, it means there are still other spark sesssions still running.\n",
    "spark_session_port = spark.sparkContext.uiWebUrl.split(\":\")[-1]\n",
    "print(\"Spark Session WebUI Port: \" + spark_session_port)"
   ]
  },
  {
   "cell_type": "code",
   "execution_count": 3,
   "id": "6c427e27-85fd-4ca1-bedb-4615c8350439",
   "metadata": {
    "tags": []
   },
   "outputs": [
    {
     "data": {
      "text/html": [
       "\n",
       "            <div>\n",
       "                <p><b>SparkSession - hive</b></p>\n",
       "                \n",
       "        <div>\n",
       "            <p><b>SparkContext</b></p>\n",
       "\n",
       "            <p><a href=\"http://linux:4040\">Spark UI</a></p>\n",
       "\n",
       "            <dl>\n",
       "              <dt>Version</dt>\n",
       "                <dd><code>v3.5.0</code></dd>\n",
       "              <dt>Master</dt>\n",
       "                <dd><code>local[*]</code></dd>\n",
       "              <dt>AppName</dt>\n",
       "                <dd><code>Bank Marketing big data project</code></dd>\n",
       "            </dl>\n",
       "        </div>\n",
       "        \n",
       "            </div>\n",
       "        "
      ],
      "text/plain": [
       "<pyspark.sql.session.SparkSession at 0x7f2c803e0730>"
      ]
     },
     "execution_count": 3,
     "metadata": {},
     "output_type": "execute_result"
    }
   ],
   "source": [
    "spark"
   ]
  },
  {
   "cell_type": "markdown",
   "id": "90cfba19-0432-4492-a095-b584c459a725",
   "metadata": {},
   "source": [
    "#### Now the spark session has been created . Now we will import the pandas data frame and load the csv file"
   ]
  },
  {
   "cell_type": "code",
   "execution_count": 4,
   "id": "5c4551b8-b324-4d79-9091-1b4f378bcc33",
   "metadata": {
    "tags": []
   },
   "outputs": [],
   "source": [
    "import pandas as pd"
   ]
  },
  {
   "cell_type": "code",
   "execution_count": 5,
   "id": "d4c2ca10-5137-406d-9a30-439143d98fef",
   "metadata": {
    "tags": []
   },
   "outputs": [
    {
     "data": {
      "text/html": [
       "<div>\n",
       "<style scoped>\n",
       "    .dataframe tbody tr th:only-of-type {\n",
       "        vertical-align: middle;\n",
       "    }\n",
       "\n",
       "    .dataframe tbody tr th {\n",
       "        vertical-align: top;\n",
       "    }\n",
       "\n",
       "    .dataframe thead th {\n",
       "        text-align: right;\n",
       "    }\n",
       "</style>\n",
       "<table border=\"1\" class=\"dataframe\">\n",
       "  <thead>\n",
       "    <tr style=\"text-align: right;\">\n",
       "      <th></th>\n",
       "      <th>age</th>\n",
       "      <th>job</th>\n",
       "      <th>marital</th>\n",
       "      <th>education</th>\n",
       "      <th>default</th>\n",
       "      <th>housing</th>\n",
       "      <th>loan</th>\n",
       "      <th>contact</th>\n",
       "      <th>month</th>\n",
       "      <th>day_of_week</th>\n",
       "      <th>...</th>\n",
       "      <th>campaign</th>\n",
       "      <th>pdays</th>\n",
       "      <th>previous</th>\n",
       "      <th>poutcome</th>\n",
       "      <th>emp.var.rate</th>\n",
       "      <th>cons.price.idx</th>\n",
       "      <th>cons.conf.idx</th>\n",
       "      <th>euribor3m</th>\n",
       "      <th>nr.employed</th>\n",
       "      <th>y</th>\n",
       "    </tr>\n",
       "  </thead>\n",
       "  <tbody>\n",
       "    <tr>\n",
       "      <th>0</th>\n",
       "      <td>56</td>\n",
       "      <td>housemaid</td>\n",
       "      <td>married</td>\n",
       "      <td>basic.4y</td>\n",
       "      <td>no</td>\n",
       "      <td>no</td>\n",
       "      <td>no</td>\n",
       "      <td>telephone</td>\n",
       "      <td>may</td>\n",
       "      <td>mon</td>\n",
       "      <td>...</td>\n",
       "      <td>1</td>\n",
       "      <td>999</td>\n",
       "      <td>0</td>\n",
       "      <td>nonexistent</td>\n",
       "      <td>1.1</td>\n",
       "      <td>93.994</td>\n",
       "      <td>-36.4</td>\n",
       "      <td>4.857</td>\n",
       "      <td>5191.0</td>\n",
       "      <td>no</td>\n",
       "    </tr>\n",
       "    <tr>\n",
       "      <th>1</th>\n",
       "      <td>57</td>\n",
       "      <td>services</td>\n",
       "      <td>married</td>\n",
       "      <td>high.school</td>\n",
       "      <td>unknown</td>\n",
       "      <td>no</td>\n",
       "      <td>no</td>\n",
       "      <td>telephone</td>\n",
       "      <td>may</td>\n",
       "      <td>mon</td>\n",
       "      <td>...</td>\n",
       "      <td>1</td>\n",
       "      <td>999</td>\n",
       "      <td>0</td>\n",
       "      <td>nonexistent</td>\n",
       "      <td>1.1</td>\n",
       "      <td>93.994</td>\n",
       "      <td>-36.4</td>\n",
       "      <td>4.857</td>\n",
       "      <td>5191.0</td>\n",
       "      <td>no</td>\n",
       "    </tr>\n",
       "    <tr>\n",
       "      <th>2</th>\n",
       "      <td>37</td>\n",
       "      <td>services</td>\n",
       "      <td>married</td>\n",
       "      <td>high.school</td>\n",
       "      <td>no</td>\n",
       "      <td>yes</td>\n",
       "      <td>no</td>\n",
       "      <td>telephone</td>\n",
       "      <td>may</td>\n",
       "      <td>mon</td>\n",
       "      <td>...</td>\n",
       "      <td>1</td>\n",
       "      <td>999</td>\n",
       "      <td>0</td>\n",
       "      <td>nonexistent</td>\n",
       "      <td>1.1</td>\n",
       "      <td>93.994</td>\n",
       "      <td>-36.4</td>\n",
       "      <td>4.857</td>\n",
       "      <td>5191.0</td>\n",
       "      <td>no</td>\n",
       "    </tr>\n",
       "    <tr>\n",
       "      <th>3</th>\n",
       "      <td>40</td>\n",
       "      <td>admin.</td>\n",
       "      <td>married</td>\n",
       "      <td>basic.6y</td>\n",
       "      <td>no</td>\n",
       "      <td>no</td>\n",
       "      <td>no</td>\n",
       "      <td>telephone</td>\n",
       "      <td>may</td>\n",
       "      <td>mon</td>\n",
       "      <td>...</td>\n",
       "      <td>1</td>\n",
       "      <td>999</td>\n",
       "      <td>0</td>\n",
       "      <td>nonexistent</td>\n",
       "      <td>1.1</td>\n",
       "      <td>93.994</td>\n",
       "      <td>-36.4</td>\n",
       "      <td>4.857</td>\n",
       "      <td>5191.0</td>\n",
       "      <td>no</td>\n",
       "    </tr>\n",
       "    <tr>\n",
       "      <th>4</th>\n",
       "      <td>56</td>\n",
       "      <td>services</td>\n",
       "      <td>married</td>\n",
       "      <td>high.school</td>\n",
       "      <td>no</td>\n",
       "      <td>no</td>\n",
       "      <td>yes</td>\n",
       "      <td>telephone</td>\n",
       "      <td>may</td>\n",
       "      <td>mon</td>\n",
       "      <td>...</td>\n",
       "      <td>1</td>\n",
       "      <td>999</td>\n",
       "      <td>0</td>\n",
       "      <td>nonexistent</td>\n",
       "      <td>1.1</td>\n",
       "      <td>93.994</td>\n",
       "      <td>-36.4</td>\n",
       "      <td>4.857</td>\n",
       "      <td>5191.0</td>\n",
       "      <td>no</td>\n",
       "    </tr>\n",
       "  </tbody>\n",
       "</table>\n",
       "<p>5 rows × 21 columns</p>\n",
       "</div>"
      ],
      "text/plain": [
       "   age        job  marital    education  default housing loan    contact  \\\n",
       "0   56  housemaid  married     basic.4y       no      no   no  telephone   \n",
       "1   57   services  married  high.school  unknown      no   no  telephone   \n",
       "2   37   services  married  high.school       no     yes   no  telephone   \n",
       "3   40     admin.  married     basic.6y       no      no   no  telephone   \n",
       "4   56   services  married  high.school       no      no  yes  telephone   \n",
       "\n",
       "  month day_of_week  ...  campaign  pdays  previous     poutcome emp.var.rate  \\\n",
       "0   may         mon  ...         1    999         0  nonexistent          1.1   \n",
       "1   may         mon  ...         1    999         0  nonexistent          1.1   \n",
       "2   may         mon  ...         1    999         0  nonexistent          1.1   \n",
       "3   may         mon  ...         1    999         0  nonexistent          1.1   \n",
       "4   may         mon  ...         1    999         0  nonexistent          1.1   \n",
       "\n",
       "   cons.price.idx  cons.conf.idx  euribor3m  nr.employed   y  \n",
       "0          93.994          -36.4      4.857       5191.0  no  \n",
       "1          93.994          -36.4      4.857       5191.0  no  \n",
       "2          93.994          -36.4      4.857       5191.0  no  \n",
       "3          93.994          -36.4      4.857       5191.0  no  \n",
       "4          93.994          -36.4      4.857       5191.0  no  \n",
       "\n",
       "[5 rows x 21 columns]"
      ]
     },
     "execution_count": 5,
     "metadata": {},
     "output_type": "execute_result"
    }
   ],
   "source": [
    "df = pd.read_csv('data/bank.csv', sep=\";\")\n",
    "df.head()"
   ]
  },
  {
   "cell_type": "markdown",
   "id": "e37bc919-c669-4590-8e48-f52035f8eabb",
   "metadata": {},
   "source": [
    "### Now the pandas data frame is loaded we will create a spark df from this"
   ]
  },
  {
   "cell_type": "code",
   "execution_count": 8,
   "id": "6a986c82-85e2-49f1-a1b7-b52ad89c8dc0",
   "metadata": {
    "tags": []
   },
   "outputs": [
    {
     "name": "stdout",
     "output_type": "stream",
     "text": [
      "+---+-----------+--------+-------------------+-------+-------+----+---------+-----+-----------+--------+--------+-----+--------+-----------+------------+--------------+-------------+---------+-----------+---+\n",
      "|age|        job| marital|          education|default|housing|loan|  contact|month|day_of_week|duration|campaign|pdays|previous|   poutcome|emp.var.rate|cons.price.idx|cons.conf.idx|euribor3m|nr.employed|  y|\n",
      "+---+-----------+--------+-------------------+-------+-------+----+---------+-----+-----------+--------+--------+-----+--------+-----------+------------+--------------+-------------+---------+-----------+---+\n",
      "| 56|  housemaid| married|           basic.4y|     no|     no|  no|telephone|  may|        mon|     261|       1|  999|       0|nonexistent|         1.1|        93.994|        -36.4|    4.857|     5191.0| no|\n",
      "| 57|   services| married|        high.school|unknown|     no|  no|telephone|  may|        mon|     149|       1|  999|       0|nonexistent|         1.1|        93.994|        -36.4|    4.857|     5191.0| no|\n",
      "| 37|   services| married|        high.school|     no|    yes|  no|telephone|  may|        mon|     226|       1|  999|       0|nonexistent|         1.1|        93.994|        -36.4|    4.857|     5191.0| no|\n",
      "| 40|     admin.| married|           basic.6y|     no|     no|  no|telephone|  may|        mon|     151|       1|  999|       0|nonexistent|         1.1|        93.994|        -36.4|    4.857|     5191.0| no|\n",
      "| 56|   services| married|        high.school|     no|     no| yes|telephone|  may|        mon|     307|       1|  999|       0|nonexistent|         1.1|        93.994|        -36.4|    4.857|     5191.0| no|\n",
      "| 45|   services| married|           basic.9y|unknown|     no|  no|telephone|  may|        mon|     198|       1|  999|       0|nonexistent|         1.1|        93.994|        -36.4|    4.857|     5191.0| no|\n",
      "| 59|     admin.| married|professional.course|     no|     no|  no|telephone|  may|        mon|     139|       1|  999|       0|nonexistent|         1.1|        93.994|        -36.4|    4.857|     5191.0| no|\n",
      "| 41|blue-collar| married|            unknown|unknown|     no|  no|telephone|  may|        mon|     217|       1|  999|       0|nonexistent|         1.1|        93.994|        -36.4|    4.857|     5191.0| no|\n",
      "| 24| technician|  single|professional.course|     no|    yes|  no|telephone|  may|        mon|     380|       1|  999|       0|nonexistent|         1.1|        93.994|        -36.4|    4.857|     5191.0| no|\n",
      "| 25|   services|  single|        high.school|     no|    yes|  no|telephone|  may|        mon|      50|       1|  999|       0|nonexistent|         1.1|        93.994|        -36.4|    4.857|     5191.0| no|\n",
      "| 41|blue-collar| married|            unknown|unknown|     no|  no|telephone|  may|        mon|      55|       1|  999|       0|nonexistent|         1.1|        93.994|        -36.4|    4.857|     5191.0| no|\n",
      "| 25|   services|  single|        high.school|     no|    yes|  no|telephone|  may|        mon|     222|       1|  999|       0|nonexistent|         1.1|        93.994|        -36.4|    4.857|     5191.0| no|\n",
      "| 29|blue-collar|  single|        high.school|     no|     no| yes|telephone|  may|        mon|     137|       1|  999|       0|nonexistent|         1.1|        93.994|        -36.4|    4.857|     5191.0| no|\n",
      "| 57|  housemaid|divorced|           basic.4y|     no|    yes|  no|telephone|  may|        mon|     293|       1|  999|       0|nonexistent|         1.1|        93.994|        -36.4|    4.857|     5191.0| no|\n",
      "| 35|blue-collar| married|           basic.6y|     no|    yes|  no|telephone|  may|        mon|     146|       1|  999|       0|nonexistent|         1.1|        93.994|        -36.4|    4.857|     5191.0| no|\n",
      "| 54|    retired| married|           basic.9y|unknown|    yes| yes|telephone|  may|        mon|     174|       1|  999|       0|nonexistent|         1.1|        93.994|        -36.4|    4.857|     5191.0| no|\n",
      "| 35|blue-collar| married|           basic.6y|     no|    yes|  no|telephone|  may|        mon|     312|       1|  999|       0|nonexistent|         1.1|        93.994|        -36.4|    4.857|     5191.0| no|\n",
      "| 46|blue-collar| married|           basic.6y|unknown|    yes| yes|telephone|  may|        mon|     440|       1|  999|       0|nonexistent|         1.1|        93.994|        -36.4|    4.857|     5191.0| no|\n",
      "| 50|blue-collar| married|           basic.9y|     no|    yes| yes|telephone|  may|        mon|     353|       1|  999|       0|nonexistent|         1.1|        93.994|        -36.4|    4.857|     5191.0| no|\n",
      "| 39| management|  single|           basic.9y|unknown|     no|  no|telephone|  may|        mon|     195|       1|  999|       0|nonexistent|         1.1|        93.994|        -36.4|    4.857|     5191.0| no|\n",
      "+---+-----------+--------+-------------------+-------+-------+----+---------+-----+-----------+--------+--------+-----+--------+-----------+------------+--------------+-------------+---------+-----------+---+\n",
      "only showing top 20 rows\n",
      "\n"
     ]
    }
   ],
   "source": [
    "df_spark = spark.createDataFrame(df)\n",
    "\n",
    "df_spark.show()"
   ]
  },
  {
   "cell_type": "code",
   "execution_count": 9,
   "id": "92a34370-c700-4be8-9862-930008dddaec",
   "metadata": {
    "tags": []
   },
   "outputs": [
    {
     "name": "stdout",
     "output_type": "stream",
     "text": [
      "root\n",
      " |-- age: long (nullable = true)\n",
      " |-- job: string (nullable = true)\n",
      " |-- marital: string (nullable = true)\n",
      " |-- education: string (nullable = true)\n",
      " |-- default: string (nullable = true)\n",
      " |-- housing: string (nullable = true)\n",
      " |-- loan: string (nullable = true)\n",
      " |-- contact: string (nullable = true)\n",
      " |-- month: string (nullable = true)\n",
      " |-- day_of_week: string (nullable = true)\n",
      " |-- duration: long (nullable = true)\n",
      " |-- campaign: long (nullable = true)\n",
      " |-- pdays: long (nullable = true)\n",
      " |-- previous: long (nullable = true)\n",
      " |-- poutcome: string (nullable = true)\n",
      " |-- emp.var.rate: double (nullable = true)\n",
      " |-- cons.price.idx: double (nullable = true)\n",
      " |-- cons.conf.idx: double (nullable = true)\n",
      " |-- euribor3m: double (nullable = true)\n",
      " |-- nr.employed: double (nullable = true)\n",
      " |-- y: string (nullable = true)\n",
      "\n"
     ]
    }
   ],
   "source": [
    "df_spark.printSchema()"
   ]
  },
  {
   "cell_type": "markdown",
   "id": "16f3e855-d982-4c84-b0aa-efd012480611",
   "metadata": {},
   "source": [
    "### How ever we can also directly load the data to spark data frame by reading the csv file in pyspark ."
   ]
  },
  {
   "cell_type": "code",
   "execution_count": 10,
   "id": "91382819-6ab1-4ae9-bf11-d3e81ec59997",
   "metadata": {
    "tags": []
   },
   "outputs": [
    {
     "name": "stdout",
     "output_type": "stream",
     "text": [
      "+---+---------+-------+-----------+-------+-------+----+---------+-----+-----------+--------+--------+-----+--------+-----------+------------+--------------+-------------+---------+-----------+---+\n",
      "|age|      job|marital|  education|default|housing|loan|  contact|month|day_of_week|duration|campaign|pdays|previous|   poutcome|emp.var.rate|cons.price.idx|cons.conf.idx|euribor3m|nr.employed|  y|\n",
      "+---+---------+-------+-----------+-------+-------+----+---------+-----+-----------+--------+--------+-----+--------+-----------+------------+--------------+-------------+---------+-----------+---+\n",
      "| 56|housemaid|married|   basic.4y|     no|     no|  no|telephone|  may|        mon|     261|       1|  999|       0|nonexistent|         1.1|        93.994|        -36.4|    4.857|     5191.0| no|\n",
      "| 57| services|married|high.school|unknown|     no|  no|telephone|  may|        mon|     149|       1|  999|       0|nonexistent|         1.1|        93.994|        -36.4|    4.857|     5191.0| no|\n",
      "| 37| services|married|high.school|     no|    yes|  no|telephone|  may|        mon|     226|       1|  999|       0|nonexistent|         1.1|        93.994|        -36.4|    4.857|     5191.0| no|\n",
      "| 40|   admin.|married|   basic.6y|     no|     no|  no|telephone|  may|        mon|     151|       1|  999|       0|nonexistent|         1.1|        93.994|        -36.4|    4.857|     5191.0| no|\n",
      "| 56| services|married|high.school|     no|     no| yes|telephone|  may|        mon|     307|       1|  999|       0|nonexistent|         1.1|        93.994|        -36.4|    4.857|     5191.0| no|\n",
      "+---+---------+-------+-----------+-------+-------+----+---------+-----+-----------+--------+--------+-----+--------+-----------+------------+--------------+-------------+---------+-----------+---+\n",
      "only showing top 5 rows\n",
      "\n"
     ]
    }
   ],
   "source": [
    "bank = spark.read.csv('data/bank.csv', header=True, inferSchema=True, sep=\";\");\n",
    "\n",
    "# display the first 5 rows of the dataframe\n",
    "bank.show(5);"
   ]
  },
  {
   "cell_type": "code",
   "execution_count": 11,
   "id": "45a0de84-7856-408b-b3ed-08c7688af1a6",
   "metadata": {
    "tags": []
   },
   "outputs": [
    {
     "name": "stdout",
     "output_type": "stream",
     "text": [
      "root\n",
      " |-- age: integer (nullable = true)\n",
      " |-- job: string (nullable = true)\n",
      " |-- marital: string (nullable = true)\n",
      " |-- education: string (nullable = true)\n",
      " |-- default: string (nullable = true)\n",
      " |-- housing: string (nullable = true)\n",
      " |-- loan: string (nullable = true)\n",
      " |-- contact: string (nullable = true)\n",
      " |-- month: string (nullable = true)\n",
      " |-- day_of_week: string (nullable = true)\n",
      " |-- duration: integer (nullable = true)\n",
      " |-- campaign: integer (nullable = true)\n",
      " |-- pdays: integer (nullable = true)\n",
      " |-- previous: integer (nullable = true)\n",
      " |-- poutcome: string (nullable = true)\n",
      " |-- emp.var.rate: double (nullable = true)\n",
      " |-- cons.price.idx: double (nullable = true)\n",
      " |-- cons.conf.idx: double (nullable = true)\n",
      " |-- euribor3m: double (nullable = true)\n",
      " |-- nr.employed: double (nullable = true)\n",
      " |-- y: string (nullable = true)\n",
      "\n"
     ]
    }
   ],
   "source": [
    "bank.printSchema()"
   ]
  },
  {
   "cell_type": "markdown",
   "id": "f77bb622-f446-41ee-90bf-3ec7933aa163",
   "metadata": {
    "tags": []
   },
   "source": [
    "### We have sucessfully loaded the dataframe and printed the schema. Now we will explore the data and clean the data."
   ]
  },
  {
   "cell_type": "markdown",
   "id": "0052c4ea-ece7-4827-90b3-a22a8f95bf10",
   "metadata": {
    "tags": []
   },
   "source": [
    "#### NOw we are creating the db and table in spark  and explore the data using sql"
   ]
  },
  {
   "cell_type": "code",
   "execution_count": 124,
   "id": "d8a194f1-e436-43bc-a890-e06b9728ff27",
   "metadata": {
    "tags": []
   },
   "outputs": [],
   "source": [
    "bank.createOrReplaceTempView(\"bank_tmp_view\")"
   ]
  },
  {
   "cell_type": "code",
   "execution_count": 125,
   "id": "f5029e0d-3fa9-49bc-9cb2-03dc28046285",
   "metadata": {
    "tags": []
   },
   "outputs": [
    {
     "name": "stdout",
     "output_type": "stream",
     "text": [
      "+---+---------+-------+-----------+-------+-------+----+---------+-----+-----------+--------+--------+-----+--------+-----------+------------+--------------+-------------+---------+-----------+---+\n",
      "|age|      job|marital|  education|default|housing|loan|  contact|month|day_of_week|duration|campaign|pdays|previous|   poutcome|emp.var.rate|cons.price.idx|cons.conf.idx|euribor3m|nr.employed|  y|\n",
      "+---+---------+-------+-----------+-------+-------+----+---------+-----+-----------+--------+--------+-----+--------+-----------+------------+--------------+-------------+---------+-----------+---+\n",
      "| 56|housemaid|married|   basic.4y|     no|     no|  no|telephone|  may|        mon|     261|       1|  999|       0|nonexistent|         1.1|        93.994|        -36.4|    4.857|     5191.0| no|\n",
      "| 57| services|married|high.school|unknown|     no|  no|telephone|  may|        mon|     149|       1|  999|       0|nonexistent|         1.1|        93.994|        -36.4|    4.857|     5191.0| no|\n",
      "| 37| services|married|high.school|     no|    yes|  no|telephone|  may|        mon|     226|       1|  999|       0|nonexistent|         1.1|        93.994|        -36.4|    4.857|     5191.0| no|\n",
      "| 40|   admin.|married|   basic.6y|     no|     no|  no|telephone|  may|        mon|     151|       1|  999|       0|nonexistent|         1.1|        93.994|        -36.4|    4.857|     5191.0| no|\n",
      "| 56| services|married|high.school|     no|     no| yes|telephone|  may|        mon|     307|       1|  999|       0|nonexistent|         1.1|        93.994|        -36.4|    4.857|     5191.0| no|\n",
      "+---+---------+-------+-----------+-------+-------+----+---------+-----+-----------+--------+--------+-----+--------+-----------+------------+--------------+-------------+---------+-----------+---+\n",
      "only showing top 5 rows\n",
      "\n"
     ]
    }
   ],
   "source": [
    "df = spark.sql(\"SELECT * FROM bank_tmp_view\")\n",
    "df.show(5)"
   ]
  },
  {
   "cell_type": "code",
   "execution_count": 12,
   "id": "2fff3571-89db-4105-a2f1-1132feafb657",
   "metadata": {
    "tags": []
   },
   "outputs": [
    {
     "data": {
      "text/plain": [
       "pyspark.sql.dataframe.DataFrame"
      ]
     },
     "execution_count": 12,
     "metadata": {},
     "output_type": "execute_result"
    }
   ],
   "source": [
    "type(bank)"
   ]
  },
  {
   "cell_type": "code",
   "execution_count": 13,
   "id": "a527be1b-a37c-4ce2-b2d6-a2aa6254fd56",
   "metadata": {
    "tags": []
   },
   "outputs": [
    {
     "name": "stderr",
     "output_type": "stream",
     "text": [
      "23/11/09 15:51:07 WARN HiveConf: HiveConf of name hive.stats.jdbc.timeout does not exist\n",
      "23/11/09 15:51:07 WARN HiveConf: HiveConf of name hive.stats.retries.wait does not exist\n",
      "23/11/09 15:51:11 WARN ObjectStore: Version information not found in metastore. hive.metastore.schema.verification is not enabled so recording the schema version 2.3.0\n",
      "23/11/09 15:51:11 WARN ObjectStore: setMetaStoreSchemaVersion called but recording version is disabled: version = 2.3.0, comment = Set by MetaStore student@127.0.0.1\n"
     ]
    },
    {
     "data": {
      "text/plain": [
       "DataFrame[]"
      ]
     },
     "execution_count": 13,
     "metadata": {},
     "output_type": "execute_result"
    }
   ],
   "source": [
    "spark.sql(\"CREATE DATABASE IF NOT EXISTS bank_db;\")"
   ]
  },
  {
   "cell_type": "code",
   "execution_count": 14,
   "id": "07b9b230-7d7e-4278-b62a-880dbccd06c5",
   "metadata": {
    "tags": []
   },
   "outputs": [
    {
     "name": "stderr",
     "output_type": "stream",
     "text": [
      "23/11/09 15:51:14 WARN ObjectStore: Failed to get database global_temp, returning NoSuchObjectException\n",
      "23/11/09 15:51:16 WARN SessionState: METASTORE_FILTER_HOOK will be ignored, since hive.security.authorization.manager is set to instance of HiveAuthorizerFactory.\n",
      "23/11/09 15:51:17 WARN HiveConf: HiveConf of name hive.internal.ss.authz.settings.applied.marker does not exist\n",
      "23/11/09 15:51:17 WARN HiveConf: HiveConf of name hive.stats.jdbc.timeout does not exist\n",
      "23/11/09 15:51:17 WARN HiveConf: HiveConf of name hive.stats.retries.wait does not exist\n"
     ]
    }
   ],
   "source": [
    "\n",
    "\n",
    "\n",
    "bank.write.mode(\"overwrite\").saveAsTable(\"bank_db.bank\")\n",
    "\n",
    "\n"
   ]
  },
  {
   "cell_type": "code",
   "execution_count": 15,
   "id": "b75e4d4b-865c-4fc9-b885-8549bb44507d",
   "metadata": {
    "tags": []
   },
   "outputs": [
    {
     "data": {
      "text/plain": [
       "[Table(name='bank', catalog='spark_catalog', namespace=['bank_db'], description=None, tableType='MANAGED', isTemporary=False)]"
      ]
     },
     "execution_count": 15,
     "metadata": {},
     "output_type": "execute_result"
    }
   ],
   "source": [
    "spark.catalog.listTables('bank_db')"
   ]
  },
  {
   "cell_type": "code",
   "execution_count": 16,
   "id": "d47b92e9-f358-4ea0-a3c7-a56d3bf49c56",
   "metadata": {
    "tags": []
   },
   "outputs": [
    {
     "name": "stdout",
     "output_type": "stream",
     "text": [
      "+---+-----------+--------+-------------------+-------+-------+----+---------+-----+-----------+--------+--------+-----+--------+-----------+------------+--------------+-------------+---------+-----------+---+\n",
      "|age|        job| marital|          education|default|housing|loan|  contact|month|day_of_week|duration|campaign|pdays|previous|   poutcome|emp.var.rate|cons.price.idx|cons.conf.idx|euribor3m|nr.employed|  y|\n",
      "+---+-----------+--------+-------------------+-------+-------+----+---------+-----+-----------+--------+--------+-----+--------+-----------+------------+--------------+-------------+---------+-----------+---+\n",
      "| 56|  housemaid| married|           basic.4y|     no|     no|  no|telephone|  may|        mon|     261|       1|  999|       0|nonexistent|         1.1|        93.994|        -36.4|    4.857|     5191.0| no|\n",
      "| 57|   services| married|        high.school|unknown|     no|  no|telephone|  may|        mon|     149|       1|  999|       0|nonexistent|         1.1|        93.994|        -36.4|    4.857|     5191.0| no|\n",
      "| 37|   services| married|        high.school|     no|    yes|  no|telephone|  may|        mon|     226|       1|  999|       0|nonexistent|         1.1|        93.994|        -36.4|    4.857|     5191.0| no|\n",
      "| 40|     admin.| married|           basic.6y|     no|     no|  no|telephone|  may|        mon|     151|       1|  999|       0|nonexistent|         1.1|        93.994|        -36.4|    4.857|     5191.0| no|\n",
      "| 56|   services| married|        high.school|     no|     no| yes|telephone|  may|        mon|     307|       1|  999|       0|nonexistent|         1.1|        93.994|        -36.4|    4.857|     5191.0| no|\n",
      "| 45|   services| married|           basic.9y|unknown|     no|  no|telephone|  may|        mon|     198|       1|  999|       0|nonexistent|         1.1|        93.994|        -36.4|    4.857|     5191.0| no|\n",
      "| 59|     admin.| married|professional.course|     no|     no|  no|telephone|  may|        mon|     139|       1|  999|       0|nonexistent|         1.1|        93.994|        -36.4|    4.857|     5191.0| no|\n",
      "| 41|blue-collar| married|            unknown|unknown|     no|  no|telephone|  may|        mon|     217|       1|  999|       0|nonexistent|         1.1|        93.994|        -36.4|    4.857|     5191.0| no|\n",
      "| 24| technician|  single|professional.course|     no|    yes|  no|telephone|  may|        mon|     380|       1|  999|       0|nonexistent|         1.1|        93.994|        -36.4|    4.857|     5191.0| no|\n",
      "| 25|   services|  single|        high.school|     no|    yes|  no|telephone|  may|        mon|      50|       1|  999|       0|nonexistent|         1.1|        93.994|        -36.4|    4.857|     5191.0| no|\n",
      "| 41|blue-collar| married|            unknown|unknown|     no|  no|telephone|  may|        mon|      55|       1|  999|       0|nonexistent|         1.1|        93.994|        -36.4|    4.857|     5191.0| no|\n",
      "| 25|   services|  single|        high.school|     no|    yes|  no|telephone|  may|        mon|     222|       1|  999|       0|nonexistent|         1.1|        93.994|        -36.4|    4.857|     5191.0| no|\n",
      "| 29|blue-collar|  single|        high.school|     no|     no| yes|telephone|  may|        mon|     137|       1|  999|       0|nonexistent|         1.1|        93.994|        -36.4|    4.857|     5191.0| no|\n",
      "| 57|  housemaid|divorced|           basic.4y|     no|    yes|  no|telephone|  may|        mon|     293|       1|  999|       0|nonexistent|         1.1|        93.994|        -36.4|    4.857|     5191.0| no|\n",
      "| 35|blue-collar| married|           basic.6y|     no|    yes|  no|telephone|  may|        mon|     146|       1|  999|       0|nonexistent|         1.1|        93.994|        -36.4|    4.857|     5191.0| no|\n",
      "| 54|    retired| married|           basic.9y|unknown|    yes| yes|telephone|  may|        mon|     174|       1|  999|       0|nonexistent|         1.1|        93.994|        -36.4|    4.857|     5191.0| no|\n",
      "| 35|blue-collar| married|           basic.6y|     no|    yes|  no|telephone|  may|        mon|     312|       1|  999|       0|nonexistent|         1.1|        93.994|        -36.4|    4.857|     5191.0| no|\n",
      "| 46|blue-collar| married|           basic.6y|unknown|    yes| yes|telephone|  may|        mon|     440|       1|  999|       0|nonexistent|         1.1|        93.994|        -36.4|    4.857|     5191.0| no|\n",
      "| 50|blue-collar| married|           basic.9y|     no|    yes| yes|telephone|  may|        mon|     353|       1|  999|       0|nonexistent|         1.1|        93.994|        -36.4|    4.857|     5191.0| no|\n",
      "| 39| management|  single|           basic.9y|unknown|     no|  no|telephone|  may|        mon|     195|       1|  999|       0|nonexistent|         1.1|        93.994|        -36.4|    4.857|     5191.0| no|\n",
      "+---+-----------+--------+-------------------+-------+-------+----+---------+-----+-----------+--------+--------+-----+--------+-----------+------------+--------------+-------------+---------+-----------+---+\n",
      "only showing top 20 rows\n",
      "\n"
     ]
    }
   ],
   "source": [
    "df = spark.sql(\"SELECT * FROM bank_db.bank\")\n",
    "df.show()"
   ]
  },
  {
   "cell_type": "code",
   "execution_count": 17,
   "id": "312f0e5c-3d1c-43d2-bac7-214859f492b4",
   "metadata": {
    "tags": []
   },
   "outputs": [
    {
     "data": {
      "text/plain": [
       "[]"
      ]
     },
     "execution_count": 17,
     "metadata": {},
     "output_type": "execute_result"
    }
   ],
   "source": [
    "spark.catalog.listTables()"
   ]
  },
  {
   "cell_type": "code",
   "execution_count": 18,
   "id": "56bac550-54e4-4c40-9082-65864537e0ce",
   "metadata": {
    "tags": []
   },
   "outputs": [
    {
     "data": {
      "text/plain": [
       "[Table(name='bank', catalog='spark_catalog', namespace=['bank_db'], description=None, tableType='MANAGED', isTemporary=False)]"
      ]
     },
     "execution_count": 18,
     "metadata": {},
     "output_type": "execute_result"
    }
   ],
   "source": [
    "spark.catalog.listTables('bank_db')"
   ]
  },
  {
   "cell_type": "markdown",
   "id": "e57352dd-9520-4c9e-b5eb-63bbdbcb9f95",
   "metadata": {},
   "source": [
    "### Data exploration with SQL"
   ]
  },
  {
   "cell_type": "markdown",
   "id": "07e3c765-3032-48ba-991d-9f110a737455",
   "metadata": {
    "tags": []
   },
   "source": [
    "#### We are doing some data exploration by using SQL to understand more about the data. Here are some questions to uderstand about the data"
   ]
  },
  {
   "cell_type": "code",
   "execution_count": 19,
   "id": "654f599e-16da-4dff-9f38-84f133f0eb4e",
   "metadata": {
    "tags": []
   },
   "outputs": [
    {
     "data": {
      "text/plain": [
       "pyspark.sql.dataframe.DataFrame"
      ]
     },
     "execution_count": 19,
     "metadata": {},
     "output_type": "execute_result"
    }
   ],
   "source": [
    "type(df_spark)"
   ]
  },
  {
   "cell_type": "code",
   "execution_count": 20,
   "id": "fde1f48b-3d52-4911-9b40-18a2cf6149b7",
   "metadata": {
    "tags": []
   },
   "outputs": [
    {
     "name": "stdout",
     "output_type": "stream",
     "text": [
      "+--------------+---------+-------+\n",
      "|      col_name|data_type|comment|\n",
      "+--------------+---------+-------+\n",
      "|           age|      int|   NULL|\n",
      "|           job|   string|   NULL|\n",
      "|       marital|   string|   NULL|\n",
      "|     education|   string|   NULL|\n",
      "|       default|   string|   NULL|\n",
      "|       housing|   string|   NULL|\n",
      "|          loan|   string|   NULL|\n",
      "|       contact|   string|   NULL|\n",
      "|         month|   string|   NULL|\n",
      "|   day_of_week|   string|   NULL|\n",
      "|      duration|      int|   NULL|\n",
      "|      campaign|      int|   NULL|\n",
      "|         pdays|      int|   NULL|\n",
      "|      previous|      int|   NULL|\n",
      "|      poutcome|   string|   NULL|\n",
      "|  emp.var.rate|   double|   NULL|\n",
      "|cons.price.idx|   double|   NULL|\n",
      "| cons.conf.idx|   double|   NULL|\n",
      "|     euribor3m|   double|   NULL|\n",
      "|   nr.employed|   double|   NULL|\n",
      "|             y|   string|   NULL|\n",
      "+--------------+---------+-------+\n",
      "\n"
     ]
    }
   ],
   "source": [
    "df = spark.sql(\" describe bank_db.bank\")\n",
    "df.show(50)"
   ]
  },
  {
   "cell_type": "markdown",
   "id": "24564d57-b018-463f-baa6-c4aed2415a6e",
   "metadata": {},
   "source": [
    "### Finding the unique ages in age column"
   ]
  },
  {
   "cell_type": "code",
   "execution_count": 18,
   "id": "42ad805b-476b-4e04-b0fe-ff9a9b14d44b",
   "metadata": {
    "tags": []
   },
   "outputs": [
    {
     "name": "stdout",
     "output_type": "stream",
     "text": [
      "Number of unique age types: 75\n"
     ]
    }
   ],
   "source": [
    "\n",
    "# Run the SQL query to find the number of unique age types\n",
    "unique_age_count_df = spark.sql(\"SELECT COUNT(DISTINCT age) as unique_age_count FROM bank_db.bank WHERE y='yes'\")\n",
    "unique_age_count = unique_age_count_df.first().unique_age_count\n",
    "\n",
    "print(\"Number of unique age types:\", unique_age_count)\n"
   ]
  },
  {
   "cell_type": "code",
   "execution_count": 19,
   "id": "438c9257-daf6-4201-a2a0-823dc9ed8efa",
   "metadata": {
    "tags": []
   },
   "outputs": [
    {
     "name": "stdout",
     "output_type": "stream",
     "text": [
      "Age with the highest subscription count: 31\n",
      "Subscription count: 220\n"
     ]
    }
   ],
   "source": [
    "\n",
    "# Run the SQL query to find the age with the highest subscription count\n",
    "result_df = spark.sql(\"\"\"\n",
    "    SELECT age, COUNT(*) AS subscription_count\n",
    "    FROM bank_db.bank\n",
    "    WHERE y = 'yes'\n",
    "    GROUP BY age\n",
    "    ORDER BY subscription_count DESC\n",
    "    LIMIT 1\n",
    "\"\"\")\n",
    "\n",
    "# Get the age with the highest subscription count\n",
    "result = result_df.first()\n",
    "age_with_highest_subscriptions = result.age\n",
    "subscription_count = result.subscription_count\n",
    "\n",
    "print(\"Age with the highest subscription count:\", age_with_highest_subscriptions)\n",
    "print(\"Subscription count:\", subscription_count)\n"
   ]
  },
  {
   "cell_type": "markdown",
   "id": "cb222b45-8bb0-4e45-8834-88fd481f967f",
   "metadata": {
    "tags": []
   },
   "source": [
    "### Analysis from the above question:\n",
    "\n",
    "1. If we see we have total 75 unique age types.\n",
    "2. The age group of 31 years are subscribed the deposit  more than all othe age groups .\n",
    "3. There are total 220 members of age group of 31 years that subscribed to the deposit."
   ]
  },
  {
   "cell_type": "markdown",
   "id": "02a55b78-256d-4b7b-98f2-37e065bc6c50",
   "metadata": {
    "tags": []
   },
   "source": [
    "###  Finding all the unique job types and see which job types are more subscibed"
   ]
  },
  {
   "cell_type": "code",
   "execution_count": 20,
   "id": "b5c96c37-ca34-45e0-bccc-f7cfec0e43e3",
   "metadata": {
    "tags": []
   },
   "outputs": [
    {
     "name": "stdout",
     "output_type": "stream",
     "text": [
      "Unique Job Types: ['management', 'retired', 'unknown', 'self-employed', 'student', 'blue-collar', 'entrepreneur', 'admin.', 'technician', 'services', 'housemaid', 'unemployed']\n",
      "Job Types with the Most Subscriptions:\n",
      "Job Type: admin., Subscription Count: 1352\n",
      "Job Type: technician, Subscription Count: 730\n",
      "Job Type: blue-collar, Subscription Count: 638\n",
      "Job Type: retired, Subscription Count: 434\n",
      "Job Type: management, Subscription Count: 328\n",
      "Job Type: services, Subscription Count: 323\n",
      "Job Type: student, Subscription Count: 275\n",
      "Job Type: self-employed, Subscription Count: 149\n",
      "Job Type: unemployed, Subscription Count: 144\n",
      "Job Type: entrepreneur, Subscription Count: 124\n",
      "Job Type: housemaid, Subscription Count: 106\n",
      "Job Type: unknown, Subscription Count: 37\n"
     ]
    }
   ],
   "source": [
    "\n",
    "# Find unique job types\n",
    "unique_job_types_df = spark.sql(\"\"\"\n",
    "    SELECT DISTINCT job\n",
    "    FROM bank_db.bank\n",
    "\"\"\")\n",
    "\n",
    "# Find job types with the most subscriptions\n",
    "job_subscription_counts_df = spark.sql(\"\"\"\n",
    "    SELECT job, COUNT(*) AS subscription_count\n",
    "    FROM bank_db.bank\n",
    "    WHERE y = 'yes'\n",
    "    GROUP BY job\n",
    "    ORDER BY subscription_count DESC\n",
    "\"\"\")\n",
    "\n",
    "# Get the results as lists\n",
    "unique_job_types = unique_job_types_df.rdd.flatMap(lambda x: x).collect()\n",
    "job_subscription_counts = job_subscription_counts_df.rdd.collectAsMap()\n",
    "\n",
    "# Print unique job types\n",
    "print(\"Unique Job Types:\", unique_job_types)\n",
    "\n",
    "# Print job types with the most subscriptions\n",
    "print(\"Job Types with the Most Subscriptions:\")\n",
    "for job_type, count in job_subscription_counts.items():\n",
    "    print(f\"Job Type: {job_type}, Subscription Count: {count}\")\n"
   ]
  },
  {
   "cell_type": "markdown",
   "id": "e4b7d074-89ba-4267-a975-6ace72134147",
   "metadata": {
    "tags": []
   },
   "source": [
    "#### Analysis:\n",
    "1. There are total 12 unique job types in the data set.\n",
    "2. From the analysis of the day we can infer that of all the jobs people who are admins have subscribed to the bank more than all.\n",
    "3. The total admins count who subscribed are 1352."
   ]
  },
  {
   "cell_type": "markdown",
   "id": "db98c672-3e3d-4331-95b3-a83687ba6f94",
   "metadata": {},
   "source": [
    "## Finding the unique values types in marital column and finding which type are more subscribed the deposit"
   ]
  },
  {
   "cell_type": "code",
   "execution_count": 21,
   "id": "66a9fd20-df31-4b35-9e9a-96f1122d4b48",
   "metadata": {
    "tags": []
   },
   "outputs": [
    {
     "name": "stdout",
     "output_type": "stream",
     "text": [
      "Unique Marital Statuses: ['unknown', 'divorced', 'married', 'single']\n",
      "Marital Statuses with the Most Subscriptions:\n",
      "Marital Status: married, Subscription Count: 2532\n",
      "Marital Status: single, Subscription Count: 1620\n",
      "Marital Status: divorced, Subscription Count: 476\n",
      "Marital Status: unknown, Subscription Count: 12\n"
     ]
    }
   ],
   "source": [
    "# Find unique marital statuses\n",
    "unique_marital_statuses_df = spark.sql(\"\"\"\n",
    "    SELECT DISTINCT marital\n",
    "    FROM bank_db.bank\n",
    "\"\"\")\n",
    "\n",
    "# Find marital statuses with the most subscriptions\n",
    "marital_subscription_counts_df = spark.sql(\"\"\"\n",
    "    SELECT marital, COUNT(*) AS subscription_count\n",
    "    FROM bank_db.bank\n",
    "    WHERE y = 'yes'\n",
    "    GROUP BY marital\n",
    "    ORDER BY subscription_count DESC\n",
    "\"\"\")\n",
    "\n",
    "# Get the results as lists\n",
    "unique_marital_statuses = unique_marital_statuses_df.rdd.flatMap(lambda x: x).collect()\n",
    "marital_subscription_counts = marital_subscription_counts_df.rdd.collectAsMap()\n",
    "\n",
    "# Print unique marital statuses\n",
    "print(\"Unique Marital Statuses:\", unique_marital_statuses)\n",
    "\n",
    "# Print marital statuses with the most subscriptions\n",
    "print(\"Marital Statuses with the Most Subscriptions:\")\n",
    "for marital_status, count in marital_subscription_counts.items():\n",
    "    print(f\"Marital Status: {marital_status}, Subscription Count: {count}\")\n"
   ]
  },
  {
   "cell_type": "markdown",
   "id": "7ddf8668-f684-4598-a931-9883a31217d7",
   "metadata": {
    "tags": []
   },
   "source": [
    "##### Analysis:\n",
    "1. From the above we can say there are 4 unique types of values in marital column.\n",
    "2. The people who are married have subscribed more than others.\n",
    "3. THere are total of 2532 married people subscribed to the deposit."
   ]
  },
  {
   "cell_type": "markdown",
   "id": "5fb34482-3c46-4e87-a2d1-9f75be51b34e",
   "metadata": {},
   "source": [
    "## Finding the average duration of week and also the month of the campaign "
   ]
  },
  {
   "cell_type": "code",
   "execution_count": 22,
   "id": "072ee949-5e2b-4c4f-bad5-5c8c79bbf36b",
   "metadata": {
    "tags": []
   },
   "outputs": [
    {
     "name": "stdout",
     "output_type": "stream",
     "text": [
      "+-----------+\n",
      "|day_of_week|\n",
      "+-----------+\n",
      "|        fri|\n",
      "|        thu|\n",
      "|        tue|\n",
      "|        wed|\n",
      "|        mon|\n",
      "+-----------+\n",
      "\n"
     ]
    }
   ],
   "source": [
    "# Run the SQL query to find the number of unique day_of_week types\n",
    "week = spark.sql(\"SELECT DISTINCT day_of_week  FROM bank_db.bank\")\n",
    "week.show()\n"
   ]
  },
  {
   "cell_type": "code",
   "execution_count": 23,
   "id": "f10c909c-a6d3-44f5-a42b-201c41ab1ec0",
   "metadata": {
    "tags": []
   },
   "outputs": [
    {
     "name": "stdout",
     "output_type": "stream",
     "text": [
      "+---+-----------+--------+-------------------+-------+-------+----+---------+-----+-----------+--------+--------+-----+--------+-----------+------------+--------------+-------------+---------+-----------+---+\n",
      "|age|        job| marital|          education|default|housing|loan|  contact|month|day_of_week|duration|campaign|pdays|previous|   poutcome|emp.var.rate|cons.price.idx|cons.conf.idx|euribor3m|nr.employed|  y|\n",
      "+---+-----------+--------+-------------------+-------+-------+----+---------+-----+-----------+--------+--------+-----+--------+-----------+------------+--------------+-------------+---------+-----------+---+\n",
      "| 56|  housemaid| married|           basic.4y|     no|     no|  no|telephone|  may|        mon|     261|       1|  999|       0|nonexistent|         1.1|        93.994|        -36.4|    4.857|     5191.0| no|\n",
      "| 57|   services| married|        high.school|unknown|     no|  no|telephone|  may|        mon|     149|       1|  999|       0|nonexistent|         1.1|        93.994|        -36.4|    4.857|     5191.0| no|\n",
      "| 37|   services| married|        high.school|     no|    yes|  no|telephone|  may|        mon|     226|       1|  999|       0|nonexistent|         1.1|        93.994|        -36.4|    4.857|     5191.0| no|\n",
      "| 40|     admin.| married|           basic.6y|     no|     no|  no|telephone|  may|        mon|     151|       1|  999|       0|nonexistent|         1.1|        93.994|        -36.4|    4.857|     5191.0| no|\n",
      "| 56|   services| married|        high.school|     no|     no| yes|telephone|  may|        mon|     307|       1|  999|       0|nonexistent|         1.1|        93.994|        -36.4|    4.857|     5191.0| no|\n",
      "| 45|   services| married|           basic.9y|unknown|     no|  no|telephone|  may|        mon|     198|       1|  999|       0|nonexistent|         1.1|        93.994|        -36.4|    4.857|     5191.0| no|\n",
      "| 59|     admin.| married|professional.course|     no|     no|  no|telephone|  may|        mon|     139|       1|  999|       0|nonexistent|         1.1|        93.994|        -36.4|    4.857|     5191.0| no|\n",
      "| 41|blue-collar| married|            unknown|unknown|     no|  no|telephone|  may|        mon|     217|       1|  999|       0|nonexistent|         1.1|        93.994|        -36.4|    4.857|     5191.0| no|\n",
      "| 24| technician|  single|professional.course|     no|    yes|  no|telephone|  may|        mon|     380|       1|  999|       0|nonexistent|         1.1|        93.994|        -36.4|    4.857|     5191.0| no|\n",
      "| 25|   services|  single|        high.school|     no|    yes|  no|telephone|  may|        mon|      50|       1|  999|       0|nonexistent|         1.1|        93.994|        -36.4|    4.857|     5191.0| no|\n",
      "| 41|blue-collar| married|            unknown|unknown|     no|  no|telephone|  may|        mon|      55|       1|  999|       0|nonexistent|         1.1|        93.994|        -36.4|    4.857|     5191.0| no|\n",
      "| 25|   services|  single|        high.school|     no|    yes|  no|telephone|  may|        mon|     222|       1|  999|       0|nonexistent|         1.1|        93.994|        -36.4|    4.857|     5191.0| no|\n",
      "| 29|blue-collar|  single|        high.school|     no|     no| yes|telephone|  may|        mon|     137|       1|  999|       0|nonexistent|         1.1|        93.994|        -36.4|    4.857|     5191.0| no|\n",
      "| 57|  housemaid|divorced|           basic.4y|     no|    yes|  no|telephone|  may|        mon|     293|       1|  999|       0|nonexistent|         1.1|        93.994|        -36.4|    4.857|     5191.0| no|\n",
      "| 35|blue-collar| married|           basic.6y|     no|    yes|  no|telephone|  may|        mon|     146|       1|  999|       0|nonexistent|         1.1|        93.994|        -36.4|    4.857|     5191.0| no|\n",
      "| 54|    retired| married|           basic.9y|unknown|    yes| yes|telephone|  may|        mon|     174|       1|  999|       0|nonexistent|         1.1|        93.994|        -36.4|    4.857|     5191.0| no|\n",
      "| 35|blue-collar| married|           basic.6y|     no|    yes|  no|telephone|  may|        mon|     312|       1|  999|       0|nonexistent|         1.1|        93.994|        -36.4|    4.857|     5191.0| no|\n",
      "| 46|blue-collar| married|           basic.6y|unknown|    yes| yes|telephone|  may|        mon|     440|       1|  999|       0|nonexistent|         1.1|        93.994|        -36.4|    4.857|     5191.0| no|\n",
      "| 50|blue-collar| married|           basic.9y|     no|    yes| yes|telephone|  may|        mon|     353|       1|  999|       0|nonexistent|         1.1|        93.994|        -36.4|    4.857|     5191.0| no|\n",
      "| 39| management|  single|           basic.9y|unknown|     no|  no|telephone|  may|        mon|     195|       1|  999|       0|nonexistent|         1.1|        93.994|        -36.4|    4.857|     5191.0| no|\n",
      "+---+-----------+--------+-------------------+-------+-------+----+---------+-----+-----------+--------+--------+-----+--------+-----------+------------+--------------+-------------+---------+-----------+---+\n",
      "only showing top 20 rows\n",
      "\n"
     ]
    }
   ],
   "source": [
    "df = spark.sql(\"SELECT * FROM bank_db.bank\")\n",
    "df.show()"
   ]
  },
  {
   "cell_type": "code",
   "execution_count": 24,
   "id": "f51051b0-a0ff-43b4-93c9-0058b2c72376",
   "metadata": {
    "tags": []
   },
   "outputs": [
    {
     "name": "stdout",
     "output_type": "stream",
     "text": [
      "Average Duration by Month:\n",
      "+-----+------------------+\n",
      "|month|  average_duration|\n",
      "+-----+------------------+\n",
      "|  apr|293.20060790273556|\n",
      "|  aug|232.43072191647784|\n",
      "|  dec| 345.6098901098901|\n",
      "|  jul| 273.4261221076108|\n",
      "|  jun|242.56130124106807|\n",
      "|  mar|245.94688644688645|\n",
      "|  may|261.23175248747185|\n",
      "|  nov|245.85564496464278|\n",
      "|  oct|288.36768802228414|\n",
      "|  sep|297.70526315789476|\n",
      "+-----+------------------+\n",
      "\n",
      "Average Duration by Day of the Week:\n",
      "+-------------------+------------------+\n",
      "|day_of_week_numeric|     avg(duration)|\n",
      "+-------------------+------------------+\n",
      "|                  1|246.56835799859056|\n",
      "|                  2| 260.4559950556242|\n",
      "|                  3|265.88320629456604|\n",
      "|                  4|265.67459120955584|\n",
      "|                  5|252.74881819343298|\n",
      "+-------------------+------------------+\n",
      "\n"
     ]
    }
   ],
   "source": [
    "from pyspark.sql.functions import when\n",
    "\n",
    "\n",
    "\n",
    "# Create a custom column for numerical representation of day_of_week\n",
    "df_with_numeric_day = df.withColumn(\"day_of_week_numeric\",\n",
    "                                    when(df.day_of_week == \"mon\", 1).\n",
    "                                    when(df.day_of_week == \"tue\", 2).\n",
    "                                    when(df.day_of_week == \"wed\", 3).\n",
    "                                    when(df.day_of_week == \"thu\", 4).\n",
    "                                    when(df.day_of_week == \"fri\", 5).\n",
    "                                    otherwise(0))\n",
    "\n",
    "# Calculate average duration for each month\n",
    "average_duration_by_month_df = spark.sql(\"\"\"\n",
    "    SELECT month, AVG(duration) AS average_duration\n",
    "    FROM bank_db.bank\n",
    "    GROUP BY month\n",
    "    ORDER BY month\n",
    "\"\"\")\n",
    "\n",
    "# Calculate average duration for each day of the week\n",
    "average_duration_by_day_of_week_df = df_with_numeric_day.groupBy(\"day_of_week_numeric\").agg({\"duration\": \"avg\"}).orderBy(\"day_of_week_numeric\")\n",
    "\n",
    "# Show the results\n",
    "print(\"Average Duration by Month:\")\n",
    "average_duration_by_month_df.show()\n",
    "\n",
    "print(\"Average Duration by Day of the Week:\")\n",
    "average_duration_by_day_of_week_df.show()\n"
   ]
  },
  {
   "cell_type": "markdown",
   "id": "1b0a443d-4fca-44a5-9d69-44225914c64f",
   "metadata": {},
   "source": [
    "### Finding which month is having highest average duration and which day of week is noted highest average duration of campaign"
   ]
  },
  {
   "cell_type": "code",
   "execution_count": 25,
   "id": "0529a64a-6987-49bf-b54d-facdf6d8332c",
   "metadata": {
    "tags": []
   },
   "outputs": [
    {
     "name": "stdout",
     "output_type": "stream",
     "text": [
      "Month with the Highest Average Duration:\n",
      "+-----+-----------------+\n",
      "|month| average_duration|\n",
      "+-----+-----------------+\n",
      "|  dec|345.6098901098901|\n",
      "+-----+-----------------+\n",
      "\n",
      "Day of the Week with the Highest Average Duration:\n",
      "+-------------------+------------------+\n",
      "|day_of_week_numeric|     avg(duration)|\n",
      "+-------------------+------------------+\n",
      "|                  3|265.88320629456604|\n",
      "+-------------------+------------------+\n",
      "\n"
     ]
    }
   ],
   "source": [
    "from pyspark.sql.functions import when\n",
    "\n",
    "\n",
    "# Create a custom column for numerical representation of day_of_week\n",
    "df_with_numeric_day = df.withColumn(\"day_of_week_numeric\",\n",
    "                                    when(df.day_of_week == \"mon\", 1).\n",
    "                                    when(df.day_of_week == \"tue\", 2).\n",
    "                                    when(df.day_of_week == \"wed\", 3).\n",
    "                                    when(df.day_of_week == \"thu\", 4).\n",
    "                                    when(df.day_of_week == \"fri\", 5).\n",
    "                                    otherwise(0))\n",
    "\n",
    "# Calculate average duration for each month\n",
    "average_duration_by_month_df = spark.sql(\"\"\"\n",
    "    SELECT month, AVG(duration) AS average_duration\n",
    "    FROM bank_db.bank\n",
    "    GROUP BY month\n",
    "    ORDER BY average_duration DESC\n",
    "    LIMIT 1\n",
    "\"\"\")\n",
    "\n",
    "# Calculate average duration for each day of the week\n",
    "average_duration_by_day_of_week_df = df_with_numeric_day.groupBy(\"day_of_week_numeric\").agg({\"duration\": \"avg\"}).orderBy(\"avg(duration)\", ascending=False).limit(1)\n",
    "\n",
    "# Show the results\n",
    "print(\"Month with the Highest Average Duration:\")\n",
    "average_duration_by_month_df.show()\n",
    "\n",
    "print(\"Day of the Week with the Highest Average Duration:\")\n",
    "average_duration_by_day_of_week_df.show()\n"
   ]
  },
  {
   "cell_type": "markdown",
   "id": "9bd8c2eb-e895-4a18-8dee-737100f8b20f",
   "metadata": {},
   "source": [
    "#### Analysis :\n",
    "1. From the above analysis if we observe december month is having the highest average duration of campaign and wednesday among all the weeks is having highest average duration of the campaign."
   ]
  },
  {
   "cell_type": "markdown",
   "id": "a6f8b523-d4e2-4567-b22a-f72968f0e6d2",
   "metadata": {
    "tags": []
   },
   "source": [
    "## Some more analysis on the socio economic factors attributes"
   ]
  },
  {
   "cell_type": "markdown",
   "id": "aa52a941-ba8d-4612-90e0-8694cb17be4d",
   "metadata": {},
   "source": [
    "####  Correlation Between Employment Variation Rate and Number of Employees"
   ]
  },
  {
   "cell_type": "code",
   "execution_count": 26,
   "id": "24290490-1ed4-488e-ad73-ddde174d6617",
   "metadata": {
    "tags": []
   },
   "outputs": [
    {
     "name": "stdout",
     "output_type": "stream",
     "text": [
      "+------------------+\n",
      "|       correlation|\n",
      "+------------------+\n",
      "|0.9069701012560353|\n",
      "+------------------+\n",
      "\n"
     ]
    }
   ],
   "source": [
    "\n",
    "correlation_query = spark.sql(\"\"\"\n",
    "    SELECT corr(`Emp.var.rate`, `Nr.employed`) AS correlation\n",
    "    FROM bank_db.bank\n",
    "\"\"\")\n",
    "correlation_query.show()\n"
   ]
  },
  {
   "cell_type": "markdown",
   "id": "5a952486-923c-47a6-8c22-3d1fddfe4c77",
   "metadata": {},
   "source": [
    "#### Analysis : If we observe from the above analysis that with the increase in no of employees the employement variability rate increases. They both are strongly correlated as from the value is close to 1. (0.9)"
   ]
  },
  {
   "cell_type": "markdown",
   "id": "e56ee916-6013-4261-b203-c5e6b62607a5",
   "metadata": {},
   "source": [
    "#### Average Employment Variation Rate for Different Number of Employees"
   ]
  },
  {
   "cell_type": "code",
   "execution_count": 27,
   "id": "c8887e28-0a01-4e6a-8cfd-c38663aa38ec",
   "metadata": {
    "tags": []
   },
   "outputs": [
    {
     "name": "stdout",
     "output_type": "stream",
     "text": [
      "+-----------+--------------------+\n",
      "|Nr.employed|  avg_variation_rate|\n",
      "+-----------+--------------------+\n",
      "|     4963.6|  -1.100000000000013|\n",
      "|     4991.6| -1.7000000000000246|\n",
      "|     5008.7|  -1.799999999999978|\n",
      "|     5017.5| -3.4000000000000608|\n",
      "|     5023.5|                -3.0|\n",
      "|     5076.2|                -2.9|\n",
      "|     5099.1|  -1.799999999999898|\n",
      "|     5176.3|-0.19999999999999998|\n",
      "|     5191.0|  1.1000000000001586|\n",
      "|     5195.8|-0.10000000000000414|\n",
      "|     5228.1|   1.400000000000221|\n",
      "+-----------+--------------------+\n",
      "\n"
     ]
    }
   ],
   "source": [
    "avg_variation_rate_query = spark.sql(\"\"\"\n",
    "    SELECT `Nr.employed`, AVG(`Emp.var.rate`) AS avg_variation_rate\n",
    "    FROM bank_db.bank\n",
    "    GROUP BY `Nr.employed`\n",
    "    ORDER BY `Nr.employed`\n",
    "\"\"\")\n",
    "avg_variation_rate_query.show()\n"
   ]
  },
  {
   "cell_type": "markdown",
   "id": "ad01c2c7-4c06-41d8-a051-2aed7b564a38",
   "metadata": {},
   "source": [
    "#### Analysis :\n",
    "1. Positive Emp.var.rate values indicate that maintaining an optimal workforce positively influences bank marketing campaign success. Adequate staffing levels during these periods enhance the effectiveness of campaigns, potentially leading to higher subscription rates and customer engagement.\n",
    "2. Negative Emp.var.rate values highlight the sensitivity of campaign outcomes to workforce reductions. Downsizing during specific periods may diminish campaign effectiveness. Banks should exercise caution when reducing staff, ensuring that such adjustments do not compromise the bank's ability to execute successful marketing strategies and attract new customers.\n"
   ]
  },
  {
   "cell_type": "markdown",
   "id": "e334c70d-b9f1-4f51-810e-5a2f771e8429",
   "metadata": {},
   "source": [
    "####  Maximum Employment Variation Rate and Corresponding Number of Employees"
   ]
  },
  {
   "cell_type": "code",
   "execution_count": 28,
   "id": "ab560b48-9bf1-4833-ae37-1ab4aca6a494",
   "metadata": {
    "tags": []
   },
   "outputs": [
    {
     "name": "stdout",
     "output_type": "stream",
     "text": [
      "+-----------+------------------+\n",
      "|Nr.employed|max_variation_rate|\n",
      "+-----------+------------------+\n",
      "|     5228.1|               1.4|\n",
      "+-----------+------------------+\n",
      "\n"
     ]
    }
   ],
   "source": [
    "max_variation_rate_query = spark.sql(\"\"\"\n",
    "    SELECT `Nr.employed`, MAX(`Emp.var.rate`) AS max_variation_rate\n",
    "    FROM  bank_db.bank\n",
    "    GROUP BY `Nr.employed`\n",
    "    ORDER BY max_variation_rate DESC\n",
    "    LIMIT 1\n",
    "\"\"\")\n",
    "max_variation_rate_query.show()\n"
   ]
  },
  {
   "cell_type": "markdown",
   "id": "37ddd2f1-7bbf-4547-901c-999e285316dc",
   "metadata": {},
   "source": [
    "#### Analysis:\n",
    "\n",
    "Maintaining a workforce size around 5228.1 employees corresponds to the bank's maximum employment variation rate of 1.4. This specific staffing level is strategically advantageous, indicating a strong positive correlation with the success of marketing campaigns. Allocating resources and focusing marketing efforts during periods of this optimal staffing can enhance customer engagement and subscription rates, optimizing the bank's overall campaign effectiveness."
   ]
  },
  {
   "cell_type": "markdown",
   "id": "39989ef7-c236-44d8-9d0e-5ed3cecb9e9e",
   "metadata": {},
   "source": [
    "#### Employment Variation Rate Impact on Subscription Rates"
   ]
  },
  {
   "cell_type": "code",
   "execution_count": 101,
   "id": "1e102d30-6bfb-48dd-b101-a19ffe57f95f",
   "metadata": {
    "tags": []
   },
   "outputs": [
    {
     "name": "stdout",
     "output_type": "stream",
     "text": [
      "+------------+------------------+\n",
      "|Emp.var.rate|subscription_count|\n",
      "+------------+------------------+\n",
      "|        -3.4|               454|\n",
      "|        -3.0|                88|\n",
      "|        -2.9|               594|\n",
      "|        -1.8|              1461|\n",
      "|        -1.7|               403|\n",
      "|        -1.1|               301|\n",
      "|        -0.2|                 1|\n",
      "|        -0.1|               232|\n",
      "|         1.1|               240|\n",
      "|         1.4|               866|\n",
      "+------------+------------------+\n",
      "\n"
     ]
    }
   ],
   "source": [
    "subscription_impact_query = spark.sql(\"\"\"\n",
    "    SELECT `Emp.var.rate`, COUNT(*) AS subscription_count\n",
    "    FROM bank_db.bank\n",
    "    WHERE `y` = 'yes'\n",
    "    GROUP BY `Emp.var.rate`\n",
    "    ORDER BY `Emp.var.rate`\n",
    "\"\"\")\n",
    "subscription_impact_query.show()\n"
   ]
  },
  {
   "cell_type": "markdown",
   "id": "8d4a21e6-6b22-46e6-97c0-34e31cb12005",
   "metadata": {},
   "source": [
    "#### Analysis:\n",
    "The provided data showcases the subscription counts for various employment variation rates (Emp.var.rate). Negative rates (-3.4, -3.0, -2.9) correspond to economic downturns, resulting in lower subscription counts, indicating reduced customer interest and engagement during challenging economic periods. In contrast, positive rates (1.1, 1.4) signify economic upswings, leading to higher subscription counts. Banks should leverage this insight to align marketing strategies with economic trends, focusing on customer outreach and promotions during favorable economic climates to maximize subscription rates and overall campaign effectiveness."
   ]
  },
  {
   "cell_type": "markdown",
   "id": "6d2cb09d-0284-4b38-a14b-d46996eda07d",
   "metadata": {},
   "source": [
    "### FInding the subscription counts by education level"
   ]
  },
  {
   "cell_type": "code",
   "execution_count": 29,
   "id": "d0d75139-4b8d-4c15-bad3-5f17b7316d19",
   "metadata": {
    "tags": []
   },
   "outputs": [
    {
     "name": "stdout",
     "output_type": "stream",
     "text": [
      "+-------------------+------------------+\n",
      "|          education|subscription_count|\n",
      "+-------------------+------------------+\n",
      "|  university.degree|              1670|\n",
      "|        high.school|              1031|\n",
      "|professional.course|               595|\n",
      "|           basic.9y|               473|\n",
      "|           basic.4y|               428|\n",
      "|            unknown|               251|\n",
      "|           basic.6y|               188|\n",
      "|         illiterate|                 4|\n",
      "+-------------------+------------------+\n",
      "\n"
     ]
    }
   ],
   "source": [
    "education_subscription_query = spark.sql(\"\"\"\n",
    "    SELECT education, COUNT(*) AS subscription_count\n",
    "    FROM bank_db.bank\n",
    "    WHERE y = 'yes'\n",
    "    GROUP BY education\n",
    "    ORDER BY subscription_count DESC\n",
    "\"\"\")\n",
    "education_subscription_query.show()\n"
   ]
  },
  {
   "cell_type": "markdown",
   "id": "5bf5a1cf-4d5e-46e5-b94a-d46e1b641d12",
   "metadata": {
    "tags": []
   },
   "source": [
    "##### Analysis :\n",
    "1. From the analysis we can say that the University degree people are subscribed to the depoist more and the illetarates subscribed very less.\n",
    "2. Around 1670 university degree holders are subscribed to the deposit.\n",
    "3. only 4 people who are illiterates subscribed to deposit."
   ]
  },
  {
   "cell_type": "markdown",
   "id": "6331821e-924b-4a90-8ce4-64531f760602",
   "metadata": {},
   "source": [
    "###  Subscription Rates for Clients with Education and Loan"
   ]
  },
  {
   "cell_type": "code",
   "execution_count": 31,
   "id": "cb5cc4b5-5b42-4018-b79f-61698cb8721e",
   "metadata": {
    "tags": []
   },
   "outputs": [
    {
     "name": "stdout",
     "output_type": "stream",
     "text": [
      "+-------------------+-------+------------------+\n",
      "|          education|   loan|subscription_count|\n",
      "+-------------------+-------+------------------+\n",
      "|  university.degree|     no|              1393|\n",
      "|        high.school|     no|               860|\n",
      "|professional.course|     no|               494|\n",
      "|           basic.9y|     no|               385|\n",
      "|           basic.4y|     no|               349|\n",
      "|  university.degree|    yes|               243|\n",
      "|            unknown|     no|               204|\n",
      "|           basic.6y|     no|               162|\n",
      "|        high.school|    yes|               150|\n",
      "|professional.course|    yes|                85|\n",
      "|           basic.9y|    yes|                75|\n",
      "|           basic.4y|    yes|                68|\n",
      "|            unknown|    yes|                42|\n",
      "|  university.degree|unknown|                34|\n",
      "|        high.school|unknown|                21|\n",
      "|           basic.6y|    yes|                19|\n",
      "|professional.course|unknown|                16|\n",
      "|           basic.9y|unknown|                13|\n",
      "|           basic.4y|unknown|                11|\n",
      "|           basic.6y|unknown|                 7|\n",
      "+-------------------+-------+------------------+\n",
      "only showing top 20 rows\n",
      "\n"
     ]
    }
   ],
   "source": [
    "education_loan_subscription_query = spark.sql(\"\"\"\n",
    "    SELECT education, loan, COUNT(*) AS subscription_count\n",
    "    FROM bank_db.bank\n",
    "    WHERE y = 'yes'\n",
    "    GROUP BY education, loan\n",
    "    ORDER BY subscription_count DESC\n",
    "\"\"\")\n",
    "education_loan_subscription_query.show()\n"
   ]
  },
  {
   "cell_type": "markdown",
   "id": "9db53572-fa16-4b19-8021-a319d90c5d13",
   "metadata": {
    "tags": []
   },
   "source": [
    "#### Analysis:\n",
    "1. THe university degree holders took the loan and subscribed to the deposit more than all other education level types.\n",
    "2. 1393 people have subscribed to deposit with out taking loan while 243 subscribed with taking loan.\n",
    "3. For all other education types the results are observed above output."
   ]
  },
  {
   "cell_type": "markdown",
   "id": "a125632d-432b-4d5c-9e8c-1a06ecf98b51",
   "metadata": {},
   "source": [
    "### Average Age of Subscribers by Education Level"
   ]
  },
  {
   "cell_type": "code",
   "execution_count": 33,
   "id": "36edd4e6-58b3-440b-b43d-b8bcb82f59d7",
   "metadata": {
    "tags": []
   },
   "outputs": [
    {
     "name": "stdout",
     "output_type": "stream",
     "text": [
      "+-------------------+-----------------+\n",
      "|          education|      average_age|\n",
      "+-------------------+-----------------+\n",
      "|        high.school|37.50339476236663|\n",
      "|  university.degree|38.64491017964072|\n",
      "|           basic.9y|38.94291754756871|\n",
      "|           basic.6y|40.29255319148936|\n",
      "|professional.course|41.03193277310925|\n",
      "|            unknown|44.21912350597609|\n",
      "|         illiterate|            51.75|\n",
      "|           basic.4y|58.22196261682243|\n",
      "+-------------------+-----------------+\n",
      "\n"
     ]
    }
   ],
   "source": [
    "average_age_by_education_query = spark.sql(\"\"\"\n",
    "    SELECT education, AVG(age) AS average_age\n",
    "    FROM bank_db.bank\n",
    "    WHERE y = 'yes'\n",
    "    GROUP BY education\n",
    "    ORDER BY average_age\n",
    "\"\"\")\n",
    "average_age_by_education_query.show()\n"
   ]
  },
  {
   "cell_type": "markdown",
   "id": "27cf1cb5-6c53-44fa-8a3a-38a9150910e6",
   "metadata": {
    "tags": []
   },
   "source": [
    "#### Analysis:\n",
    "1. THe average age of the basic 4y type of education level people are high around 58.22 years.\n",
    "2. the high school people is having the average  ageb around 37.50 years."
   ]
  },
  {
   "cell_type": "markdown",
   "id": "0c5e7e45-e3af-4fb4-a084-d21421e15a2d",
   "metadata": {},
   "source": [
    "#### Summary till now:\n",
    "\n",
    "1. We have digged deeped in to the data and explored the data and did some analysis.\n",
    "2. SO, now we need to apply some machine learning models for the problem and see whether the model is performing well in predicting the client will suscribe to deposit or not.\n",
    "3. How ever, in order to do that the primary step we need to do is do some clenaing on the data like idnetifying misisng or null values removing duplicates if ecessary.\n",
    "4. DO SOME ENcoding on the categorical variables and scaling if necessray.\n",
    "5. check the data imbalance and then apply the models.\n",
    "5. Let us start the data clenaing."
   ]
  },
  {
   "cell_type": "markdown",
   "id": "77f683d7-b94a-44f5-8c01-f933ca9965a8",
   "metadata": {},
   "source": [
    "### Data cleaning"
   ]
  },
  {
   "cell_type": "markdown",
   "id": "7391fec3-c910-4c8b-b783-63de4648b2ad",
   "metadata": {},
   "source": [
    "### Identifying the type of my df"
   ]
  },
  {
   "cell_type": "code",
   "execution_count": 21,
   "id": "7230a75c-5967-47d1-a2e3-ba2c54b2b4b4",
   "metadata": {
    "tags": []
   },
   "outputs": [
    {
     "data": {
      "text/plain": [
       "pyspark.sql.dataframe.DataFrame"
      ]
     },
     "execution_count": 21,
     "metadata": {},
     "output_type": "execute_result"
    }
   ],
   "source": [
    "type(bank)"
   ]
  },
  {
   "cell_type": "markdown",
   "id": "1bb7a443-f980-48f5-8228-423b0af5e7e6",
   "metadata": {},
   "source": [
    "#### Getting the column names"
   ]
  },
  {
   "cell_type": "code",
   "execution_count": 22,
   "id": "c48f92e5-515a-441e-bcf5-82cefb9bc496",
   "metadata": {
    "tags": []
   },
   "outputs": [
    {
     "data": {
      "text/plain": [
       "['age',\n",
       " 'job',\n",
       " 'marital',\n",
       " 'education',\n",
       " 'default',\n",
       " 'housing',\n",
       " 'loan',\n",
       " 'contact',\n",
       " 'month',\n",
       " 'day_of_week',\n",
       " 'duration',\n",
       " 'campaign',\n",
       " 'pdays',\n",
       " 'previous',\n",
       " 'poutcome',\n",
       " 'emp.var.rate',\n",
       " 'cons.price.idx',\n",
       " 'cons.conf.idx',\n",
       " 'euribor3m',\n",
       " 'nr.employed',\n",
       " 'y']"
      ]
     },
     "execution_count": 22,
     "metadata": {},
     "output_type": "execute_result"
    }
   ],
   "source": [
    "bank.columns"
   ]
  },
  {
   "cell_type": "markdown",
   "id": "cb4da524-678a-41b0-a250-3c004a2dc0e7",
   "metadata": {},
   "source": [
    "#### Identifying the number of rows in the data set"
   ]
  },
  {
   "cell_type": "code",
   "execution_count": 23,
   "id": "7cdf76d4-4d41-4ca6-8bf3-ccb39609dde3",
   "metadata": {
    "tags": []
   },
   "outputs": [
    {
     "name": "stdout",
     "output_type": "stream",
     "text": [
      "Number of rows: 41188\n"
     ]
    }
   ],
   "source": [
    "num_rows = bank.count()\n",
    "print(\"Number of rows: {}\".format(num_rows))\n"
   ]
  },
  {
   "cell_type": "code",
   "execution_count": 24,
   "id": "06b72059-5209-44df-9e25-029293af9904",
   "metadata": {
    "tags": []
   },
   "outputs": [
    {
     "name": "stdout",
     "output_type": "stream",
     "text": [
      "Number of columns: 21\n"
     ]
    }
   ],
   "source": [
    "num_columns = len(bank.columns)\n",
    "print(\"Number of columns: {}\".format(num_columns))\n"
   ]
  },
  {
   "cell_type": "code",
   "execution_count": 25,
   "id": "a23082b1-c841-4910-8120-e241f5c3ad71",
   "metadata": {
    "tags": []
   },
   "outputs": [
    {
     "name": "stdout",
     "output_type": "stream",
     "text": [
      "root\n",
      " |-- age: integer (nullable = true)\n",
      " |-- job: string (nullable = true)\n",
      " |-- marital: string (nullable = true)\n",
      " |-- education: string (nullable = true)\n",
      " |-- default: string (nullable = true)\n",
      " |-- housing: string (nullable = true)\n",
      " |-- loan: string (nullable = true)\n",
      " |-- contact: string (nullable = true)\n",
      " |-- month: string (nullable = true)\n",
      " |-- day_of_week: string (nullable = true)\n",
      " |-- duration: integer (nullable = true)\n",
      " |-- campaign: integer (nullable = true)\n",
      " |-- pdays: integer (nullable = true)\n",
      " |-- previous: integer (nullable = true)\n",
      " |-- poutcome: string (nullable = true)\n",
      " |-- emp.var.rate: double (nullable = true)\n",
      " |-- cons.price.idx: double (nullable = true)\n",
      " |-- cons.conf.idx: double (nullable = true)\n",
      " |-- euribor3m: double (nullable = true)\n",
      " |-- nr.employed: double (nullable = true)\n",
      " |-- y: string (nullable = true)\n",
      "\n"
     ]
    }
   ],
   "source": [
    "bank.printSchema()"
   ]
  },
  {
   "cell_type": "code",
   "execution_count": 26,
   "id": "8cba7970-6049-4714-b483-2d8c4966c324",
   "metadata": {
    "tags": []
   },
   "outputs": [
    {
     "data": {
      "text/plain": [
       "DataFrame[emp.var.rate: double]"
      ]
     },
     "execution_count": 26,
     "metadata": {},
     "output_type": "execute_result"
    }
   ],
   "source": [
    "\n",
    "spark.sql(\"SELECT `emp.var.rate` FROM bank_db.bank\")\n"
   ]
  },
  {
   "cell_type": "code",
   "execution_count": 27,
   "id": "28669b00-e74e-45bd-8e5f-2c094cb56cb7",
   "metadata": {
    "tags": []
   },
   "outputs": [
    {
     "name": "stdout",
     "output_type": "stream",
     "text": [
      "+------------+\n",
      "|emp.var.rate|\n",
      "+------------+\n",
      "|         1.1|\n",
      "|         1.1|\n",
      "|         1.1|\n",
      "|         1.1|\n",
      "|         1.1|\n",
      "|         1.1|\n",
      "|         1.1|\n",
      "|         1.1|\n",
      "|         1.1|\n",
      "|         1.1|\n",
      "|         1.1|\n",
      "|         1.1|\n",
      "|         1.1|\n",
      "|         1.1|\n",
      "|         1.1|\n",
      "|         1.1|\n",
      "|         1.1|\n",
      "|         1.1|\n",
      "|         1.1|\n",
      "|         1.1|\n",
      "+------------+\n",
      "only showing top 20 rows\n",
      "\n"
     ]
    }
   ],
   "source": [
    "# Select and display the column with special characters using backticks\n",
    "bank.select(\"`emp.var.rate`\").show()\n"
   ]
  },
  {
   "cell_type": "code",
   "execution_count": 28,
   "id": "f4dc56fc-2b63-41e4-9b3c-8ca7b37c5ccd",
   "metadata": {
    "tags": []
   },
   "outputs": [
    {
     "name": "stdout",
     "output_type": "stream",
     "text": [
      "Number of null values in 'age' column: 0\n",
      "Number of null values in 'job' column: 0\n",
      "Number of null values in 'marital' column: 0\n",
      "Number of null values in 'education' column: 0\n",
      "Number of null values in 'default' column: 0\n",
      "Number of null values in 'housing' column: 0\n",
      "Number of null values in 'loan' column: 0\n",
      "Number of null values in 'contact' column: 0\n",
      "Number of null values in 'month' column: 0\n",
      "Number of null values in 'day_of_week' column: 0\n",
      "Number of null values in 'duration' column: 0\n",
      "Number of null values in 'campaign' column: 0\n",
      "Number of null values in 'pdays' column: 0\n",
      "Number of null values in 'previous' column: 0\n",
      "Number of null values in 'poutcome' column: 0\n",
      "Number of null values in 'emp.var.rate' column: 0\n",
      "Number of null values in 'cons.price.idx' column: 0\n",
      "Number of null values in 'cons.conf.idx' column: 0\n",
      "Number of null values in 'euribor3m' column: 0\n",
      "Number of null values in 'nr.employed' column: 0\n",
      "Number of null values in 'y' column: 0\n"
     ]
    }
   ],
   "source": [
    "from pyspark.sql.functions import col, sum\n",
    "\n",
    "# Calculate the number of null values in each column\n",
    "null_counts =bank.select([sum(col(\"`{}`\".format(c)).isNull().cast('int')).alias(c) for c in bank.columns])\n",
    "\n",
    "# Collect and display the number of null values in each column\n",
    "null_counts_row = null_counts.collect()[0]\n",
    "for column in bank.columns:\n",
    "    print(\"Number of null values in '{}' column: {}\".format(column, null_counts_row[column]))\n"
   ]
  },
  {
   "cell_type": "markdown",
   "id": "319835c8-efec-4425-9104-017710a5c13f",
   "metadata": {
    "tags": []
   },
   "source": [
    "#### Analysis :\n",
    "1. If we observe from the above there are no null values in our data set. "
   ]
  },
  {
   "cell_type": "code",
   "execution_count": 29,
   "id": "2a32b1e0-7663-4986-a291-7722bc7f1581",
   "metadata": {
    "tags": []
   },
   "outputs": [
    {
     "name": "stdout",
     "output_type": "stream",
     "text": [
      "Number of duplicate rows removed: 12\n"
     ]
    }
   ],
   "source": [
    "# Check for duplicates in the entire DataFrame\n",
    "bank_no_duplicates = bank.dropDuplicates()\n",
    "\n",
    "# To check for duplicates based on specific columns, specify the column names in the subset parameter\n",
    "# For example, to check duplicates based on 'age' and 'job' columns:\n",
    "# bank_no_duplicates = bank.dropDuplicates(subset=['age', 'job'])\n",
    "\n",
    "# Count the number of rows in the original and deduplicated DataFrames\n",
    "original_count = bank.count()\n",
    "deduplicated_count = bank_no_duplicates.count()\n",
    "\n",
    "# Print the number of duplicates removed\n",
    "print(\"Number of duplicate rows removed: {}\".format(original_count - deduplicated_count))\n",
    "\n"
   ]
  },
  {
   "cell_type": "code",
   "execution_count": 30,
   "id": "14c7d677-c7ec-4dc3-8785-461064dffd6f",
   "metadata": {
    "tags": []
   },
   "outputs": [
    {
     "name": "stdout",
     "output_type": "stream",
     "text": [
      "Shape of the DataFrame: (41176, 21)\n"
     ]
    }
   ],
   "source": [
    "# Get the number of rows\n",
    "num_rows = bank_no_duplicates.count()\n",
    "\n",
    "# Get the number of columns\n",
    "num_columns = len(bank_no_duplicates.columns)\n",
    "\n",
    "# Print the shape of the DataFrame\n",
    "print(\"Shape of the DataFrame: ({}, {})\".format(num_rows, num_columns))\n"
   ]
  },
  {
   "cell_type": "code",
   "execution_count": 31,
   "id": "bd14c103-9668-40f5-b5db-e8a89bb4c977",
   "metadata": {
    "tags": []
   },
   "outputs": [
    {
     "name": "stdout",
     "output_type": "stream",
     "text": [
      "Shape of the new DataFrame: (41176, 21)\n"
     ]
    }
   ],
   "source": [
    "#### Storing this one in to new data frame\n",
    "\n",
    "# Assign the deduplicated DataFrame to a new variable name (e.g., new_df)\n",
    "new_df = bank_no_duplicates\n",
    "\n",
    "# Get the number of rows and columns of the new DataFrame\n",
    "num_rows = new_df.count()\n",
    "num_columns = len(new_df.columns)\n",
    "\n",
    "# Print the shape of the new DataFrame\n",
    "print(\"Shape of the new DataFrame: ({}, {})\".format(num_rows, num_columns))\n"
   ]
  },
  {
   "cell_type": "markdown",
   "id": "e046847c-b0f2-436e-830f-c3003b4834bf",
   "metadata": {},
   "source": [
    "#### Identifying the categorical variables in the dataset"
   ]
  },
  {
   "cell_type": "code",
   "execution_count": 32,
   "id": "3b786f9d-a7bc-4d3a-b549-9f0ab8ee2797",
   "metadata": {
    "tags": []
   },
   "outputs": [],
   "source": [
    "categorical_columns = [col for col, dtype in new_df.dtypes if dtype == 'string']\n"
   ]
  },
  {
   "cell_type": "code",
   "execution_count": 33,
   "id": "83a37bbf-c664-4df7-9064-3aa2d8790b30",
   "metadata": {
    "tags": []
   },
   "outputs": [
    {
     "data": {
      "text/plain": [
       "['job',\n",
       " 'marital',\n",
       " 'education',\n",
       " 'default',\n",
       " 'housing',\n",
       " 'loan',\n",
       " 'contact',\n",
       " 'month',\n",
       " 'day_of_week',\n",
       " 'poutcome',\n",
       " 'y']"
      ]
     },
     "execution_count": 33,
     "metadata": {},
     "output_type": "execute_result"
    }
   ],
   "source": [
    "categorical_columns"
   ]
  },
  {
   "cell_type": "markdown",
   "id": "2eba714e-6e64-4cc8-8daa-53f5f38ea572",
   "metadata": {},
   "source": [
    "####  Encoding the categorical variable using string indexer "
   ]
  },
  {
   "cell_type": "code",
   "execution_count": 34,
   "id": "ea2fb3aa-4d5f-4c55-bd1e-89b89192913e",
   "metadata": {
    "tags": []
   },
   "outputs": [
    {
     "name": "stderr",
     "output_type": "stream",
     "text": [
      "                                                                                \r"
     ]
    },
    {
     "name": "stdout",
     "output_type": "stream",
     "text": [
      "+---+--------+--------+-----+--------+------------+--------------+-------------+---------+-----------+---+-------+---------+-------+-------+----+-------+-----+-----------+--------+---+\n",
      "|age|duration|campaign|pdays|previous|emp.var.rate|cons.price.idx|cons.conf.idx|euribor3m|nr.employed|job|marital|education|default|housing|loan|contact|month|day_of_week|poutcome|  y|\n",
      "+---+--------+--------+-----+--------+------------+--------------+-------------+---------+-----------+---+-------+---------+-------+-------+----+-------+-----+-----------+--------+---+\n",
      "| 42|      22|       1|  999|       0|         1.1|        93.994|        -36.4|    4.857|     5191.0|2.0|    1.0|      3.0|    1.0|    1.0| 0.0|    1.0|  0.0|        1.0|     0.0|0.0|\n",
      "| 49|    1467|       1|  999|       0|         1.1|        93.994|        -36.4|    4.857|     5191.0|2.0|    0.0|      2.0|    0.0|    1.0| 0.0|    1.0|  0.0|        1.0|     0.0|1.0|\n",
      "| 39|    2033|       1|  999|       0|         1.1|        93.994|        -36.4|    4.857|     5191.0|3.0|    2.0|      1.0|    1.0|    1.0| 0.0|    1.0|  0.0|        1.0|     0.0|0.0|\n",
      "| 31|     124|       1|  999|       0|         1.1|        93.994|        -36.4|    4.857|     5191.0|1.0|    0.0|      1.0|    1.0|    0.0| 0.0|    1.0|  0.0|        3.0|     0.0|0.0|\n",
      "| 27|     164|       2|  999|       0|         1.1|        93.994|        -36.4|    4.856|     5191.0|1.0|    0.0|      2.0|    0.0|    0.0| 0.0|    1.0|  0.0|        2.0|     0.0|0.0|\n",
      "+---+--------+--------+-----+--------+------------+--------------+-------------+---------+-----------+---+-------+---------+-------+-------+----+-------+-----+-----------+--------+---+\n",
      "only showing top 5 rows\n",
      "\n"
     ]
    }
   ],
   "source": [
    "from pyspark.ml.feature import StringIndexer\n",
    "\n",
    "# Identify categorical columns\n",
    "categorical_columns = [col for col, dtype in new_df.dtypes if dtype == 'string']\n",
    "\n",
    "# Apply StringIndexer and overwrite the original columns\n",
    "for col in categorical_columns:\n",
    "    indexer = StringIndexer(inputCol=col, outputCol=col + \"_index\")\n",
    "    indexer_model = indexer.fit(new_df)\n",
    "    new_df = indexer_model.transform(new_df).drop(col).withColumnRenamed(col + \"_index\", col)\n",
    "\n",
    "# Show the updated DataFrame\n",
    "new_df.show(5)\n"
   ]
  },
  {
   "cell_type": "code",
   "execution_count": 35,
   "id": "ddd95067-bdd2-4d53-b751-b58b8814df16",
   "metadata": {
    "tags": []
   },
   "outputs": [
    {
     "data": {
      "text/plain": [
       "['age',\n",
       " 'duration',\n",
       " 'campaign',\n",
       " 'pdays',\n",
       " 'previous',\n",
       " 'emp.var.rate',\n",
       " 'cons.price.idx',\n",
       " 'cons.conf.idx',\n",
       " 'euribor3m',\n",
       " 'nr.employed',\n",
       " 'job',\n",
       " 'marital',\n",
       " 'education',\n",
       " 'default',\n",
       " 'housing',\n",
       " 'loan',\n",
       " 'contact',\n",
       " 'month',\n",
       " 'day_of_week',\n",
       " 'poutcome',\n",
       " 'y']"
      ]
     },
     "execution_count": 35,
     "metadata": {},
     "output_type": "execute_result"
    }
   ],
   "source": [
    "new_df.columns  # Display the first 5 rows of the encoded DataFrame\n"
   ]
  },
  {
   "cell_type": "markdown",
   "id": "ec1dfb13-d520-4e68-a85f-05930194b7f5",
   "metadata": {},
   "source": [
    "#### Check for data imbalance "
   ]
  },
  {
   "cell_type": "code",
   "execution_count": 153,
   "id": "13a428e4-063b-4acb-b883-80dc4a763c8b",
   "metadata": {
    "tags": []
   },
   "outputs": [
    {
     "name": "stdout",
     "output_type": "stream",
     "text": [
      "+---+-----+\n",
      "|  y|count|\n",
      "+---+-----+\n",
      "|0.0|36537|\n",
      "|1.0| 4639|\n",
      "+---+-----+\n",
      "\n"
     ]
    }
   ],
   "source": [
    "class_distribution = new_df.groupBy(\"y\").count()\n",
    "class_distribution.show()\n"
   ]
  },
  {
   "cell_type": "code",
   "execution_count": 36,
   "id": "14678c4f-a2aa-4178-b6fb-6d6c18d6122d",
   "metadata": {
    "tags": []
   },
   "outputs": [
    {
     "name": "stderr",
     "output_type": "stream",
     "text": [
      "23/11/09 15:53:59 WARN SparkSession: Using an existing Spark session; only runtime SQL configurations will take effect.\n"
     ]
    },
    {
     "data": {
      "image/png": "[encoded data removed]",
      "text/plain": [
       "<Figure size 600x400 with 1 Axes>"
      ]
     },
     "metadata": {},
     "output_type": "display_data"
    }
   ],
   "source": [
    "import pandas as pd\n",
    "import matplotlib.pyplot as plt\n",
    "from pyspark.sql import SparkSession\n",
    "\n",
    "# Create a SparkSession\n",
    "spark = SparkSession.builder.appName(\"DataImbalance\").getOrCreate()\n",
    "\n",
    "# Assuming your DataFrame is named 'new_df'\n",
    "class_distribution = new_df.groupBy(\"y\").count().toPandas()\n",
    "\n",
    "# Plotting the class distribution\n",
    "plt.figure(figsize=(6, 4))\n",
    "plt.bar(class_distribution['y'], class_distribution['count'], color=['red', 'green'])\n",
    "plt.xlabel('Class')\n",
    "plt.ylabel('Count')\n",
    "plt.title('Class Distribution')\n",
    "plt.xticks([0, 1], ['No', 'Yes'])\n",
    "plt.show()\n"
   ]
  },
  {
   "cell_type": "markdown",
   "id": "679580ee-0e94-45d4-b0cc-8f77b5409d68",
   "metadata": {},
   "source": [
    "####  Analysis:\n",
    "1. FRom the above graph if we observe the yes labels that is the no of people who subscribed to deposit are few than no lables that is who do not subscribed.\n",
    "2. This is 36537 no lables are there and only 4639 yes lables are there.\n",
    "3. so, clearly we can say the data is imbalanced so if we feed this to model our model will be biased in results so we will handle the data imbalance using random over smapling.\n",
    "4. HOw ever we have multiple techniques like random under smapling, random over smapling, smote etc.\n",
    "5. we are using random over smapling that is making minor classes to balance major class yes labels to increase to no lables."
   ]
  },
  {
   "cell_type": "code",
   "execution_count": 37,
   "id": "f89abec0-9d0c-400c-a9c2-736f90e0de5a",
   "metadata": {
    "tags": []
   },
   "outputs": [
    {
     "name": "stdout",
     "output_type": "stream",
     "text": [
      "root\n",
      " |-- age: integer (nullable = true)\n",
      " |-- duration: integer (nullable = true)\n",
      " |-- campaign: integer (nullable = true)\n",
      " |-- pdays: integer (nullable = true)\n",
      " |-- previous: integer (nullable = true)\n",
      " |-- emp.var.rate: double (nullable = true)\n",
      " |-- cons.price.idx: double (nullable = true)\n",
      " |-- cons.conf.idx: double (nullable = true)\n",
      " |-- euribor3m: double (nullable = true)\n",
      " |-- nr.employed: double (nullable = true)\n",
      " |-- job: double (nullable = false)\n",
      " |-- marital: double (nullable = false)\n",
      " |-- education: double (nullable = false)\n",
      " |-- default: double (nullable = false)\n",
      " |-- housing: double (nullable = false)\n",
      " |-- loan: double (nullable = false)\n",
      " |-- contact: double (nullable = false)\n",
      " |-- month: double (nullable = false)\n",
      " |-- day_of_week: double (nullable = false)\n",
      " |-- poutcome: double (nullable = false)\n",
      " |-- y: double (nullable = false)\n",
      "\n"
     ]
    }
   ],
   "source": [
    "new_df.printSchema()"
   ]
  },
  {
   "cell_type": "code",
   "execution_count": 38,
   "id": "8f57ba37-d0fe-455c-b35c-992c7bc8238e",
   "metadata": {
    "tags": []
   },
   "outputs": [],
   "source": [
    "col = \"some_string\"\n",
    "from pyspark.sql.functions import col\n"
   ]
  },
  {
   "cell_type": "markdown",
   "id": "5491f1b0-02e3-46fe-8654-12dcdd8685a5",
   "metadata": {},
   "source": [
    "#### FInding the count of majority class and minority class"
   ]
  },
  {
   "cell_type": "code",
   "execution_count": 39,
   "id": "4a40d03f-4d98-465c-aa74-e6662a5bda6e",
   "metadata": {
    "tags": []
   },
   "outputs": [],
   "source": [
    "minority_class_count = new_df.filter(col(\"y\") == 1.0).count()\n",
    "majority_class_count = new_df.filter(col(\"y\") == 0.0).count()\n"
   ]
  },
  {
   "cell_type": "markdown",
   "id": "7531bc86-9202-4ac9-9726-5d5ed35a5a82",
   "metadata": {},
   "source": [
    "### Calculating the over smaple ratio"
   ]
  },
  {
   "cell_type": "code",
   "execution_count": 40,
   "id": "45066d88-67e1-4b74-9578-f94a37c8a7b8",
   "metadata": {
    "tags": []
   },
   "outputs": [],
   "source": [
    "oversampling_ratio = int(majority_class_count / minority_class_count)\n"
   ]
  },
  {
   "cell_type": "code",
   "execution_count": 41,
   "id": "57cf542b-c097-45ef-8191-abffc245debf",
   "metadata": {
    "tags": []
   },
   "outputs": [],
   "source": [
    "oversampled_minority_df = new_df.filter(col(\"y\") == 1.0)\n",
    "for _ in range(oversampling_ratio - 1):\n",
    "    oversampled_minority_df = oversampled_minority_df.union(new_df.filter(col(\"y\") == 1.0))\n",
    "\n",
    "balanced_df = oversampled_minority_df.union(new_df.filter(col(\"y\") == 0.0))\n"
   ]
  },
  {
   "cell_type": "markdown",
   "id": "03a7b351-7c23-4ebf-917d-2f5e00d51e4b",
   "metadata": {},
   "source": [
    "### PLotting the graph to see whetehr data is balanced ornot"
   ]
  },
  {
   "cell_type": "code",
   "execution_count": 42,
   "id": "48e35038-c3d8-4fe2-a181-9369b8cd7f7f",
   "metadata": {
    "tags": []
   },
   "outputs": [
    {
     "data": {
      "image/png": "[encoded data removed]",
      "text/plain": [
       "<Figure size 600x400 with 1 Axes>"
      ]
     },
     "metadata": {},
     "output_type": "display_data"
    }
   ],
   "source": [
    "class_distribution = balanced_df.groupBy(\"y\").count().toPandas()\n",
    "\n",
    "plt.figure(figsize=(6, 4))\n",
    "plt.bar(class_distribution['y'], class_distribution['count'], color=['red', 'green'])\n",
    "plt.xlabel('Class')\n",
    "plt.ylabel('Count')\n",
    "plt.title('Class Distribution')\n",
    "plt.xticks([0, 1], ['No', 'Yes'])\n",
    "plt.show()\n"
   ]
  },
  {
   "cell_type": "code",
   "execution_count": 162,
   "id": "fda1bd5c-e663-468f-a859-b7bbc0180350",
   "metadata": {
    "tags": []
   },
   "outputs": [
    {
     "name": "stdout",
     "output_type": "stream",
     "text": [
      "root\n",
      " |-- age: integer (nullable = true)\n",
      " |-- duration: integer (nullable = true)\n",
      " |-- campaign: integer (nullable = true)\n",
      " |-- pdays: integer (nullable = true)\n",
      " |-- previous: integer (nullable = true)\n",
      " |-- emp.var.rate: double (nullable = true)\n",
      " |-- cons.price.idx: double (nullable = true)\n",
      " |-- cons.conf.idx: double (nullable = true)\n",
      " |-- euribor3m: double (nullable = true)\n",
      " |-- nr.employed: double (nullable = true)\n",
      " |-- job: double (nullable = false)\n",
      " |-- marital: double (nullable = false)\n",
      " |-- education: double (nullable = false)\n",
      " |-- default: double (nullable = false)\n",
      " |-- housing: double (nullable = false)\n",
      " |-- loan: double (nullable = false)\n",
      " |-- contact: double (nullable = false)\n",
      " |-- month: double (nullable = false)\n",
      " |-- day_of_week: double (nullable = false)\n",
      " |-- poutcome: double (nullable = false)\n",
      " |-- y: double (nullable = false)\n",
      "\n"
     ]
    }
   ],
   "source": [
    "balanced_df.printSchema()"
   ]
  },
  {
   "cell_type": "markdown",
   "id": "b7756d0d-6ca0-4e39-8e68-31a8c5de4914",
   "metadata": {},
   "source": [
    "##### Note : I have used the string indexer to encode my categorical columns and overwrite in the same column names.\n",
    "balanced df contains all numerical columns only "
   ]
  },
  {
   "cell_type": "code",
   "execution_count": 43,
   "id": "1854da09-2fc8-4271-8676-cd46c6202d7a",
   "metadata": {
    "tags": []
   },
   "outputs": [
    {
     "name": "stdout",
     "output_type": "stream",
     "text": [
      "+---+--------+--------+-----+--------+------------+--------------+-------------+---------+-----------+---+-------+---------+-------+-------+----+-------+-----+-----------+--------+---+\n",
      "|age|duration|campaign|pdays|previous|emp.var.rate|cons.price.idx|cons.conf.idx|euribor3m|nr.employed|job|marital|education|default|housing|loan|contact|month|day_of_week|poutcome|  y|\n",
      "+---+--------+--------+-----+--------+------------+--------------+-------------+---------+-----------+---+-------+---------+-------+-------+----+-------+-----+-----------+--------+---+\n",
      "| 49|    1467|       1|  999|       0|         1.1|        93.994|        -36.4|    4.857|     5191.0|2.0|    0.0|      2.0|    0.0|    1.0| 0.0|    1.0|  0.0|        1.0|     0.0|1.0|\n",
      "+---+--------+--------+-----+--------+------------+--------------+-------------+---------+-----------+---+-------+---------+-------+-------+----+-------+-----+-----------+--------+---+\n",
      "only showing top 1 row\n",
      "\n"
     ]
    }
   ],
   "source": [
    "balanced_df.show(1)"
   ]
  },
  {
   "cell_type": "code",
   "execution_count": 44,
   "id": "d2be6c62-ecf3-4975-9b75-03ca32f38d83",
   "metadata": {
    "tags": []
   },
   "outputs": [
    {
     "name": "stdout",
     "output_type": "stream",
     "text": [
      "root\n",
      " |-- age: integer (nullable = true)\n",
      " |-- duration: integer (nullable = true)\n",
      " |-- campaign: integer (nullable = true)\n",
      " |-- pdays: integer (nullable = true)\n",
      " |-- previous: integer (nullable = true)\n",
      " |-- emp_var_rate: double (nullable = true)\n",
      " |-- cons_price_idx: double (nullable = true)\n",
      " |-- cons_conf_idx: double (nullable = true)\n",
      " |-- euribor3m: double (nullable = true)\n",
      " |-- nr_employed: double (nullable = true)\n",
      " |-- job: double (nullable = false)\n",
      " |-- marital: double (nullable = false)\n",
      " |-- education: double (nullable = false)\n",
      " |-- default: double (nullable = false)\n",
      " |-- housing: double (nullable = false)\n",
      " |-- loan: double (nullable = false)\n",
      " |-- contact: double (nullable = false)\n",
      " |-- month: double (nullable = false)\n",
      " |-- day_of_week: double (nullable = false)\n",
      " |-- poutcome: double (nullable = false)\n",
      " |-- y: double (nullable = false)\n",
      "\n"
     ]
    }
   ],
   "source": [
    "### Renaming the columns that having . with underscores:\n",
    "\n",
    "from pyspark.sql.functions import col\n",
    "\n",
    "# Assign balanced_df to a new DataFrame (freshdf)\n",
    "freshdf = balanced_df\n",
    "\n",
    "# Replace dots (.) with underscores (_) in column names with dots\n",
    "for column in balanced_df.columns:\n",
    "    if '.' in column:\n",
    "        new_column_name = column.replace('.', '_')\n",
    "        freshdf = freshdf.withColumnRenamed(column, new_column_name)\n",
    "\n",
    "# Verify the modified column names in freshdf\n",
    "freshdf.printSchema()\n"
   ]
  },
  {
   "cell_type": "markdown",
   "id": "6de346e2-fe53-48ae-a223-c03b4bd05638",
   "metadata": {},
   "source": [
    "####  Syandardization to scale all the columns using standard scalar "
   ]
  },
  {
   "cell_type": "code",
   "execution_count": 45,
   "id": "3ccbe643-9965-4271-baf0-4fe3cd547897",
   "metadata": {
    "tags": []
   },
   "outputs": [
    {
     "name": "stderr",
     "output_type": "stream",
     "text": [
      "                                                                                \r"
     ]
    },
    {
     "name": "stdout",
     "output_type": "stream",
     "text": [
      "+----------------------------------------------------------------------------------------------------------------------------------------------------------------------------------------------------------+---+\n",
      "|scaled_features                                                                                                                                                                                           |y  |\n",
      "+----------------------------------------------------------------------------------------------------------------------------------------------------------------------------------------------------------+---+\n",
      "|[0.7226602418822081,3.0704533470416546,-0.5664332012508904,0.34438321706085495,-0.4408143133033636,0.9013148819940492,0.8061421977456652,0.7198150841966467,0.9751832767962026,0.6135989719835014]        |1.0|\n",
      "|[0.9742288002188892,1.6616331803609241,1.5163658065350012,0.34438321706085495,-0.4408143133033636,0.9013148819940492,0.8061421977456652,0.7198150841966467,0.9757133046863693,0.6135989719835014]         |1.0|\n",
      "|[-0.28361399146451666,2.4195784300351573,-0.14987339969371208,0.34438321706085495,-0.4408143133033636,0.9013148819940492,0.8061421977456652,0.7198150841966467,0.9788934720273716,0.6135989719835014]     |1.0|\n",
      "|[1.2257973585555704,1.7208036273615148,-0.5664332012508904,0.34438321706085495,-0.4408143133033636,1.0759358051672858,0.6854133272265601,-0.4686232295960965,1.028186065812905,1.0433555771214926]        |1.0|\n",
      "|[1.0580849863311164,0.41060087234843495,-0.5664332012508904,0.34438321706085495,-0.4408143133033636,1.0759358051672858,-0.06755357574792954,0.7764073848534435,1.0329563168244085,1.0433555771214926]     |1.0|\n",
      "|[-0.3674701775767437,2.0927321513652277,-0.14987339969371208,0.34438321706085495,-0.4408143133033636,0.20283118930110233,-0.4551567916250896,-0.33657452806356897,0.5845527217431041,0.6692009047237282]  |1.0|\n",
      "|[-0.03204543312783547,3.1352590747089684,0.2666864018634662,0.34438321706085495,-0.4408143133033636,0.20283118930110233,-0.4551567916250896,-0.33657452806356897,0.5612314945757547,0.6692009047237282]   |1.0|\n",
      "|[-0.8706072942501061,0.7628059140186176,-0.5664332012508904,0.34438321706085495,-0.4408143133033636,0.20283118930110233,-0.4551567916250896,-0.33657452806356897,0.5320799606165684,0.6692009047237282]   |1.0|\n",
      "|[-0.11590161924006252,0.04994290967816783,0.2666864018634662,0.34438321706085495,-0.4408143133033636,-0.7866873753472391,-1.0222647755109338,-1.8457025455781626,-0.705005135033271,-0.450946365272047]   |1.0|\n",
      "|[-1.0383196664745602,-0.08530382632318234,-0.14987339969371208,0.34438321706085495,-0.4408143133033636,-0.7866873753472391,-1.0222647755109338,-1.8457025455781626,-0.7876894858993272,-0.450946365272047]|1.0|\n",
      "|[-1.3737444109234684,3.42829366937856,-0.5664332012508904,0.34438321706085495,1.0189071723523526,-0.7866873753472391,-0.6537240128736349,-1.2986436392291227,-0.8449324980373659,-0.450946365272047]      |1.0|\n",
      "|[-0.8706072942501061,0.3598833463479286,-0.5664332012508904,0.34438321706085495,-0.4408143133033636,-0.7866873753472391,-0.6537240128736349,-1.2986436392291227,-0.8449324980373659,-0.450946365272047]   |1.0|\n",
      "|[0.13566693909661864,1.9631206960306005,-0.5664332012508904,0.34438321706085495,-0.4408143133033636,0.9013148819940492,0.8061421977456652,0.7198150841966467,0.9767733604667037,0.6135989719835014]       |1.0|\n",
      "|[-1.4576005970356956,0.8698762466863532,-0.14987339969371208,0.34438321706085495,-0.4408143133033636,1.0759358051672858,0.6854133272265601,-0.4686232295960965,1.03083620526374,1.0433555771214926]       |1.0|\n",
      "|[0.3872354974332998,0.3345245833476755,-0.5664332012508904,0.34438321706085495,-0.4408143133033636,1.0759358051672858,0.6854133272265601,-0.4686232295960965,1.028186065812905,1.0433555771214926]        |1.0|\n",
      "|[-0.9544634803623331,0.5627534503499539,-0.14987339969371208,0.34438321706085495,-0.4408143133033636,1.0759358051672858,0.6854133272265601,-0.4686232295960965,1.0297761494834061,1.0433555771214926]     |1.0|\n",
      "|[1.6450782891167057,0.6275591780172675,-0.5664332012508904,0.34438321706085495,-0.4408143133033636,1.0759358051672858,0.6854133272265601,-0.4686232295960965,1.0303061773735733,1.0433555771214926]       |1.0|\n",
      "|[-0.786751108137879,0.9290466936869439,-0.5664332012508904,0.34438321706085495,-0.4408143133033636,1.0759358051672858,-0.06755357574792954,0.7764073848534435,1.0318962610440745,1.0433555771214926]      |1.0|\n",
      "|[-0.03204543312783547,2.0983674320319508,-0.14987339969371208,0.34438321706085495,1.0189071723523526,0.20283118930110233,-0.4551567916250896,-0.33657452806356897,0.6020436421186157,0.6692009047237282]  |1.0|\n",
      "|[1.3096535446677975,0.29225997834725354,-0.14987339969371208,0.34438321706085495,-0.4408143133033636,0.20283118930110233,-0.4551567916250896,-0.33657452806356897,0.5320799606165684,0.6692009047237282]  |1.0|\n",
      "+----------------------------------------------------------------------------------------------------------------------------------------------------------------------------------------------------------+---+\n",
      "only showing top 20 rows\n",
      "\n"
     ]
    }
   ],
   "source": [
    "from pyspark.ml.feature import VectorAssembler, StandardScaler\n",
    "\n",
    "# List of numerical column names (excluding the target column 'y')\n",
    "numerical_columns = [\n",
    "    'age', 'duration', 'campaign', 'pdays', 'previous',\n",
    "    'emp_var_rate', 'cons_price_idx', 'cons_conf_idx', 'euribor3m', 'nr_employed'\n",
    "]\n",
    "\n",
    "# Assemble numerical columns into a single feature vector\n",
    "assembler = VectorAssembler(inputCols=numerical_columns, outputCol=\"features\")\n",
    "assembled_df = assembler.transform(freshdf)\n",
    "\n",
    "# Initialize the StandardScaler\n",
    "scaler = StandardScaler(inputCol=\"features\", outputCol=\"scaled_features\", withStd=True, withMean=True)\n",
    "\n",
    "# Fit and transform the data\n",
    "scaler_model = scaler.fit(assembled_df)\n",
    "scaled_df = scaler_model.transform(assembled_df)\n",
    "\n",
    "# Show scaled features\n",
    "scaled_df.select(\"scaled_features\", \"y\").show(truncate=False)\n"
   ]
  },
  {
   "cell_type": "markdown",
   "id": "803e0d90-a347-4221-bab5-ae23eaa275f2",
   "metadata": {},
   "source": [
    "#### Splitting the data in to train and test set (70/30 ratio)"
   ]
  },
  {
   "cell_type": "code",
   "execution_count": 46,
   "id": "c0a07c61-fc0f-4839-a995-51982bdb0a2e",
   "metadata": {
    "tags": []
   },
   "outputs": [
    {
     "name": "stderr",
     "output_type": "stream",
     "text": [
      "                                                                                \r"
     ]
    },
    {
     "name": "stdout",
     "output_type": "stream",
     "text": [
      "Number of records in training set: 48424\n",
      "Number of records in testing set: 20586\n"
     ]
    }
   ],
   "source": [
    "# Split the data into training and testing sets (70% training, 30% testing)\n",
    "train_ratio = 0.7\n",
    "test_ratio = 1.0 - train_ratio\n",
    "\n",
    "# Randomly split the data\n",
    "train_df, test_df = scaled_df.randomSplit([train_ratio, test_ratio], seed=42)\n",
    "\n",
    "# Show the number of records in each set\n",
    "print(\"Number of records in training set: {}\".format(train_df.count()))\n",
    "print(\"Number of records in testing set: {}\".format(test_df.count()))\n"
   ]
  },
  {
   "cell_type": "markdown",
   "id": "adcb6516-ad03-4318-96fb-5a8defd5537f",
   "metadata": {},
   "source": [
    "#### Data modeling and Analysis: \n",
    "\n",
    "1. Our problem is a binary classification problem.\n",
    "2. We are going to apply four  models for our dataset and see which is going to give good results in predicting our target that is whetehr the client is going to subscribe or not\n",
    "3. Four models are  1 Logistic regression  2. Decision tree  3. LInear SVC 4. MLP classifier"
   ]
  },
  {
   "cell_type": "markdown",
   "id": "9074963b-05f6-4966-a15a-2b23809328b9",
   "metadata": {},
   "source": [
    "#### FItting the LOgistic regression model"
   ]
  },
  {
   "cell_type": "code",
   "execution_count": 61,
   "id": "d29e29fd-b584-470c-bebf-3b7e3bbfa979",
   "metadata": {
    "tags": []
   },
   "outputs": [],
   "source": [
    "from pyspark.ml.classification import LogisticRegression\n",
    "\n",
    "# Initialize the Logistic Regression model\n",
    "lr = LogisticRegression(featuresCol='scaled_features', labelCol='y', predictionCol='prediction')\n"
   ]
  },
  {
   "cell_type": "code",
   "execution_count": 62,
   "id": "ae3a8b78-843f-4b53-93e0-6308aba9a725",
   "metadata": {
    "tags": []
   },
   "outputs": [
    {
     "name": "stderr",
     "output_type": "stream",
     "text": [
      "[Stage 3368:============================>                           (1 + 1) / 2]\r"
     ]
    }
   ],
   "source": [
    "# Fit the Logistic Regression model on the training data\n",
    "lr_model = lr.fit(train_df)\n"
   ]
  },
  {
   "cell_type": "code",
   "execution_count": 63,
   "id": "891ddc47-8f40-43d7-b955-e08d2a6254e9",
   "metadata": {
    "tags": []
   },
   "outputs": [],
   "source": [
    "# Make predictions on the test data\n",
    "predictions = lr_model.transform(test_df)\n"
   ]
  },
  {
   "cell_type": "code",
   "execution_count": 64,
   "id": "b4961725-acb8-4892-991e-e74e9a239ffd",
   "metadata": {
    "tags": []
   },
   "outputs": [
    {
     "name": "stdout",
     "output_type": "stream",
     "text": [
      "Accuracy: 84.92%\n"
     ]
    },
    {
     "name": "stderr",
     "output_type": "stream",
     "text": [
      "                                                                                \r"
     ]
    }
   ],
   "source": [
    "from pyspark.ml.evaluation import BinaryClassificationEvaluator\n",
    "\n",
    "evaluator = BinaryClassificationEvaluator(labelCol='y', rawPredictionCol='prediction', metricName='areaUnderROC')\n",
    "accuracy = evaluator.evaluate(predictions)\n",
    "print(\"Accuracy: {:.2f}%\".format(accuracy * 100))\n"
   ]
  },
  {
   "cell_type": "code",
   "execution_count": 65,
   "id": "f4276d5a-ecbe-4e9f-8820-e0d7d53916cc",
   "metadata": {
    "tags": []
   },
   "outputs": [
    {
     "name": "stderr",
     "output_type": "stream",
     "text": [
      "                                                                                \r"
     ]
    },
    {
     "name": "stdout",
     "output_type": "stream",
     "text": [
      "Precision: 84.99\n",
      "Recall: 84.99\n",
      "F1-score: 84.99\n",
      "AUC-ROC: 92.57\n",
      "Confusion Matrix:\n",
      "DenseMatrix([[9412., 1507.],\n",
      "             [1582., 8085.]])\n"
     ]
    }
   ],
   "source": [
    "from pyspark.ml.evaluation import BinaryClassificationEvaluator, MulticlassClassificationEvaluator\n",
    "from pyspark.mllib.evaluation import MulticlassMetrics\n",
    "\n",
    "# Evaluate precision, recall, and F1-score\n",
    "evaluator = MulticlassClassificationEvaluator(labelCol='y', predictionCol='prediction', metricName='weightedPrecision')\n",
    "precision = evaluator.evaluate(predictions)\n",
    "\n",
    "evaluator.setMetricName('weightedRecall')\n",
    "recall = evaluator.evaluate(predictions)\n",
    "\n",
    "evaluator.setMetricName('f1')\n",
    "f1_score = evaluator.evaluate(predictions)\n",
    "\n",
    "# Calculate AUC-ROC\n",
    "binary_evaluator = BinaryClassificationEvaluator(labelCol='y')\n",
    "auc_roc = binary_evaluator.evaluate(predictions)\n",
    "\n",
    "print(\"Precision: {:.2f}\".format(precision * 100))\n",
    "print(\"Recall: {:.2f}\".format(recall * 100))\n",
    "print(\"F1-score: {:.2f}\".format(f1_score * 100))\n",
    "print(\"AUC-ROC: {:.2f}\".format(auc_roc * 100))\n",
    "\n",
    "# Calculate confusion matrix\n",
    "predictionAndLabels = predictions.select('prediction', 'y').rdd\n",
    "metrics = MulticlassMetrics(predictionAndLabels)\n",
    "confusion_matrix = metrics.confusionMatrix()\n",
    "\n",
    "print(\"Confusion Matrix:\")\n",
    "print(confusion_matrix)\n"
   ]
  },
  {
   "cell_type": "markdown",
   "id": "ec363ceb-3318-4d03-b337-e3c839d93425",
   "metadata": {},
   "source": [
    "#### FItting the deciison tree "
   ]
  },
  {
   "cell_type": "code",
   "execution_count": 66,
   "id": "d4ffdad8-320d-46a4-a081-4b084d345070",
   "metadata": {
    "tags": []
   },
   "outputs": [
    {
     "name": "stdout",
     "output_type": "stream",
     "text": [
      "Decision Tree Metrics:\n",
      "Precision: 87.00\n",
      "Recall: 86.69\n",
      "F1-score: 86.70\n",
      "Accuracy: 86.69\n",
      "AUC-ROC: 86.10\n"
     ]
    },
    {
     "name": "stderr",
     "output_type": "stream",
     "text": [
      "                                                                                \r"
     ]
    },
    {
     "name": "stdout",
     "output_type": "stream",
     "text": [
      "Confusion Matrix:\n",
      "DenseMatrix([[9129., 1790.],\n",
      "             [ 950., 8717.]])\n"
     ]
    },
    {
     "name": "stderr",
     "output_type": "stream",
     "text": [
      "                                                                                \r"
     ]
    }
   ],
   "source": [
    "from pyspark.ml.classification import DecisionTreeClassifier\n",
    "from pyspark.ml.evaluation import MulticlassClassificationEvaluator, BinaryClassificationEvaluator\n",
    "from pyspark.mllib.evaluation import MulticlassMetrics\n",
    "\n",
    "# Initialize the Decision Tree model\n",
    "dt = DecisionTreeClassifier(featuresCol='scaled_features', labelCol='y', predictionCol='prediction')\n",
    "\n",
    "# Fit the Decision Tree model on the training data\n",
    "dt_model = dt.fit(train_df)\n",
    "\n",
    "# Make predictions on the test data\n",
    "dt_predictions = dt_model.transform(test_df)\n",
    "\n",
    "# Evaluate precision, recall, F1-score, accuracy, and AUC-ROC\n",
    "evaluator = MulticlassClassificationEvaluator(labelCol='y', predictionCol='prediction', metricName='weightedPrecision')\n",
    "precision = evaluator.evaluate(dt_predictions)\n",
    "\n",
    "evaluator.setMetricName('weightedRecall')\n",
    "recall = evaluator.evaluate(dt_predictions)\n",
    "\n",
    "evaluator.setMetricName('f1')\n",
    "f1_score = evaluator.evaluate(dt_predictions)\n",
    "\n",
    "evaluator.setMetricName('accuracy')\n",
    "accuracy = evaluator.evaluate(dt_predictions)\n",
    "\n",
    "# Calculate AUC-ROC\n",
    "binary_evaluator = BinaryClassificationEvaluator(labelCol='y')\n",
    "auc_roc = binary_evaluator.evaluate(dt_predictions)\n",
    "\n",
    "print(\"Decision Tree Metrics:\")\n",
    "print(\"Precision: {:.2f}\".format(precision * 100))\n",
    "print(\"Recall: {:.2f}\".format(recall * 100))\n",
    "print(\"F1-score: {:.2f}\".format(f1_score * 100))\n",
    "print(\"Accuracy: {:.2f}\".format(accuracy * 100))\n",
    "print(\"AUC-ROC: {:.2f}\".format(auc_roc * 100))\n",
    "\n",
    "# Calculate confusion matrix\n",
    "predictionAndLabels = dt_predictions.select('prediction', 'y').rdd\n",
    "metrics = MulticlassMetrics(predictionAndLabels)\n",
    "confusion_matrix = metrics.confusionMatrix()\n",
    "\n",
    "print(\"Confusion Matrix:\")\n",
    "print(confusion_matrix)\n"
   ]
  },
  {
   "cell_type": "markdown",
   "id": "4e652dea-e7c9-4f50-a37a-2628d03352fb",
   "metadata": {},
   "source": [
    "#### LInear SVC "
   ]
  },
  {
   "cell_type": "code",
   "execution_count": 67,
   "id": "ac634ec7-9ba3-45ee-91e8-b534003f8e88",
   "metadata": {
    "tags": []
   },
   "outputs": [
    {
     "name": "stderr",
     "output_type": "stream",
     "text": [
      "                                                                                \r"
     ]
    },
    {
     "name": "stdout",
     "output_type": "stream",
     "text": [
      "LinearSVC Metrics:\n",
      "Precision: 85.20\n",
      "Recall: 85.16\n",
      "F1-score: 85.17\n",
      "Accuracy: 85.16\n",
      "AUC-ROC: 92.48\n",
      "Confusion Matrix:\n",
      "DenseMatrix([[9271., 1648.],\n",
      "             [1407., 8260.]])\n"
     ]
    },
    {
     "name": "stderr",
     "output_type": "stream",
     "text": [
      "                                                                                \r"
     ]
    }
   ],
   "source": [
    "from pyspark.ml.classification import LinearSVC\n",
    "from pyspark.ml.evaluation import MulticlassClassificationEvaluator, BinaryClassificationEvaluator\n",
    "from pyspark.mllib.evaluation import MulticlassMetrics\n",
    "\n",
    "# Initialize the LinearSVC model\n",
    "svc = LinearSVC(featuresCol='scaled_features', labelCol='y', predictionCol='prediction')\n",
    "\n",
    "# Fit the LinearSVC model on the training data\n",
    "svc_model = svc.fit(train_df)\n",
    "\n",
    "# Make predictions on the test data\n",
    "svc_predictions = svc_model.transform(test_df)\n",
    "\n",
    "# Evaluate accuracy, precision, recall, F1-score, and AUC-ROC\n",
    "evaluator = MulticlassClassificationEvaluator(labelCol='y', predictionCol='prediction', metricName='weightedPrecision')\n",
    "precision = evaluator.evaluate(svc_predictions)\n",
    "\n",
    "evaluator.setMetricName('weightedRecall')\n",
    "recall = evaluator.evaluate(svc_predictions)\n",
    "\n",
    "evaluator.setMetricName('f1')\n",
    "f1_score = evaluator.evaluate(svc_predictions)\n",
    "\n",
    "evaluator.setMetricName('accuracy')\n",
    "accuracy = evaluator.evaluate(svc_predictions)\n",
    "\n",
    "# Calculate AUC-ROC\n",
    "binary_evaluator = BinaryClassificationEvaluator(labelCol='y')\n",
    "auc_roc = binary_evaluator.evaluate(svc_predictions)\n",
    "\n",
    "print(\"LinearSVC Metrics:\")\n",
    "print(\"Precision: {:.2f}\".format(precision * 100))\n",
    "print(\"Recall: {:.2f}\".format(recall * 100))\n",
    "print(\"F1-score: {:.2f}\".format(f1_score * 100))\n",
    "print(\"Accuracy: {:.2f}\".format(accuracy * 100))\n",
    "print(\"AUC-ROC: {:.2f}\".format(auc_roc * 100))\n",
    "\n",
    "# Calculate confusion matrix\n",
    "predictionAndLabels = svc_predictions.select('prediction', 'y').rdd\n",
    "metrics = MulticlassMetrics(predictionAndLabels)\n",
    "confusion_matrix = metrics.confusionMatrix()\n",
    "\n",
    "print(\"Confusion Matrix:\")\n",
    "print(confusion_matrix)\n"
   ]
  },
  {
   "cell_type": "markdown",
   "id": "172c043f-56d4-446f-9cf5-9640d1b35784",
   "metadata": {},
   "source": [
    "#### MLP classifier"
   ]
  },
  {
   "cell_type": "code",
   "execution_count": 68,
   "id": "3f5dadc8-5172-4318-8ec1-58c0a868abe2",
   "metadata": {
    "tags": []
   },
   "outputs": [
    {
     "name": "stderr",
     "output_type": "stream",
     "text": [
      "                                                                                \r"
     ]
    },
    {
     "name": "stdout",
     "output_type": "stream",
     "text": [
      "MLP Classifier Metrics:\n",
      "Precision: 84.02\n",
      "Recall: 83.78\n",
      "F1-score: 83.79\n",
      "Accuracy: 83.78\n",
      "AUC-ROC: 91.27\n"
     ]
    },
    {
     "name": "stderr",
     "output_type": "stream",
     "text": [
      "[Stage 5064:===============================================>      (14 + 2) / 16]\r"
     ]
    },
    {
     "name": "stdout",
     "output_type": "stream",
     "text": [
      "Confusion Matrix:\n",
      "DenseMatrix([[29702.,  6835.],\n",
      "             [ 4361., 28112.]])\n"
     ]
    },
    {
     "name": "stderr",
     "output_type": "stream",
     "text": [
      "                                                                                \r"
     ]
    }
   ],
   "source": [
    "from pyspark.ml.classification import MultilayerPerceptronClassifier\n",
    "from pyspark.ml.evaluation import MulticlassClassificationEvaluator, BinaryClassificationEvaluator\n",
    "from pyspark.ml.feature import VectorAssembler\n",
    "from pyspark.mllib.evaluation import MulticlassMetrics\n",
    "\n",
    "# Define the layers for the MLP classifier\n",
    "num_features = len(freshdf.columns) - 1  # Exclude the target column 'y'\n",
    "layers = [num_features, 128, 64, 2]  # Input layer: number of features, hidden layers: 128 and 64, output layer: 2 for binary classification\n",
    "\n",
    "# Assemble features into a single column 'scaled_features'\n",
    "assembler = VectorAssembler(inputCols=freshdf.columns[:-1], outputCol='scaled_features')\n",
    "assembled_df = assembler.transform(freshdf)\n",
    "\n",
    "# Initialize the MLP classifier model\n",
    "mlp = MultilayerPerceptronClassifier(featuresCol='scaled_features', labelCol='y', predictionCol='prediction', layers=layers, blockSize=128, seed=1234)\n",
    "\n",
    "# Fit the MLP classifier model on the assembled data\n",
    "mlp_model = mlp.fit(assembled_df)\n",
    "\n",
    "# Make predictions on the test data\n",
    "mlp_predictions = mlp_model.transform(assembled_df)\n",
    "\n",
    "# Evaluate accuracy, precision, recall, F1-score, and AUC-ROC\n",
    "evaluator = MulticlassClassificationEvaluator(labelCol='y', predictionCol='prediction', metricName='weightedPrecision')\n",
    "precision = evaluator.evaluate(mlp_predictions)\n",
    "\n",
    "evaluator.setMetricName('weightedRecall')\n",
    "recall = evaluator.evaluate(mlp_predictions)\n",
    "\n",
    "evaluator.setMetricName('f1')\n",
    "f1_score = evaluator.evaluate(mlp_predictions)\n",
    "\n",
    "evaluator.setMetricName('accuracy')\n",
    "accuracy = evaluator.evaluate(mlp_predictions)\n",
    "\n",
    "# Calculate AUC-ROC\n",
    "binary_evaluator = BinaryClassificationEvaluator(labelCol='y')\n",
    "auc_roc = binary_evaluator.evaluate(mlp_predictions)\n",
    "\n",
    "print(\"MLP Classifier Metrics:\")\n",
    "print(\"Precision: {:.2f}\".format(precision * 100))\n",
    "print(\"Recall: {:.2f}\".format(recall * 100))\n",
    "print(\"F1-score: {:.2f}\".format(f1_score * 100))\n",
    "print(\"Accuracy: {:.2f}\".format(accuracy * 100))\n",
    "print(\"AUC-ROC: {:.2f}\".format(auc_roc * 100))\n",
    "\n",
    "# Calculate confusion matrix\n",
    "predictionAndLabels = mlp_predictions.select('prediction', 'y').rdd\n",
    "metrics = MulticlassMetrics(predictionAndLabels)\n",
    "confusion_matrix = metrics.confusionMatrix()\n",
    "\n",
    "print(\"Confusion Matrix:\")\n",
    "print(confusion_matrix)\n"
   ]
  },
  {
   "cell_type": "code",
   "execution_count": 3,
   "id": "97c66253-2bdf-46dd-b3c8-2776432f909a",
   "metadata": {
    "tags": []
   },
   "outputs": [],
   "source": [
    "### finally stopping the session:\n",
    "spark.stop()"
   ]
  },
  {
   "cell_type": "markdown",
   "id": "5f46edf9-8680-4465-8590-5ce4271ac25e",
   "metadata": {
    "tags": []
   },
   "source": [
    "### Result analysis"
   ]
  },
  {
   "cell_type": "markdown",
   "id": "02ed9813-290d-4b23-b8a9-7db1e9e1b1cf",
   "metadata": {
    "jp-MarkdownHeadingCollapsed": true,
    "tags": []
   },
   "source": [
    "| Model                | Accuracy | Precision | Recall  | F1 Score | AUC-ROC |\n",
    "|----------------------|----------|-----------|---------|----------|---------|\n",
    "| Logistic Regression  | 84.92    | 84.99     | 84.99   | 84.99    | 92.57   |\n",
    "| Decision Trees       | 86.69    | 87.00     | 86.69   | 86.70    | 86.10   |\n",
    "| Linear SVC           | 85.16    | 85.20     | 85.16   | 85.17    | 92.48   |\n",
    "| MLP Classifier       | 83.78    | 84.02     | 83.78   | 83.79    | 91.27   |\n"
   ]
  },
  {
   "cell_type": "markdown",
   "id": "6f97d3ac-181c-409e-a883-8d921c9617a6",
   "metadata": {
    "tags": []
   },
   "source": [
    "#### CHoosing the best metric :\n",
    "\n",
    "1. Evaluating the business scenario  for TP, TN, FP, FN :\n",
    "\n",
    "False Positive (FP):\n",
    "Scenario 1: A False Positive occurs when the model predicts that a customer will subscribe to a deposit, but they do not. In this case, the bank might allocate resources for onboarding and servicing the customer, which results in unnecessary costs without any return on investment.\n",
    "\n",
    "Scenario 2: Another False Positive scenario is when the model predicts a successful subscription, leading to the bank extending credit or benefits to the customer based on this prediction. If the customer does not actually subscribe, the bank may face financial losses or issues related to regulatory compliance.\n",
    "\n",
    "False Negative (FN):\n",
    "Scenario 1: A False Negative occurs when the model predicts that a customer will not subscribe to a deposit, but they actually do. In this case, the bank misses out on a potential subscription, leading to lost revenue opportunities and the inability to nurture the customer relationship.\n",
    "\n",
    "Scenario 2: Another False Negative scenario is when the model fails to identify a customer likely to subscribe. If these customers are not targeted with promotional offers or personalized communication, the bank may lose market share to competitors who successfully engage with these customers.\n",
    "\n",
    "True Positive (TP):\n",
    "Scenario 1: A True Positive occurs when the model correctly predicts that a customer will subscribe to a deposit, allowing the bank to tailor marketing efforts and financial products to these customers effectively. This targeted approach can lead to increased customer satisfaction and loyalty.\n",
    "\n",
    "Scenario 2: Another True Positive scenario is when the model accurately predicts successful subscriptions. With this insight, the bank can analyze the characteristics of these customers, enabling the development of more appealing products and services for similar prospects, thereby boosting overall revenue.\n",
    "\n",
    "True Negative (TN):\n",
    "Scenario 1: A True Negative occurs when the model correctly predicts that a customer will not subscribe to a deposit, allowing the bank to focus resources on other areas of the business. For example, the bank can allocate marketing budgets to other campaigns or customer segments with higher subscription potential.\n",
    "\n",
    "Scenario 2: Another True Negative scenario is when the model accurately identifies customers who are unlikely to subscribe. By avoiding unnecessary promotional activities with these customers, the bank can optimize marketing expenses and improve the efficiency of their campaigns.\n",
    "\n",
    "\n",
    "Understanding these scenarios helps the bank in making strategic decisions, optimizing marketing campaigns, and maximizing the return on investment in their marketing efforts.\n",
    "\n",
    "\n",
    "\n",
    "1. SO, we want to leevrage the effects of both FP, FN equally and also some general considerations in choosing best metric are :\n",
    "\n",
    "If FN > FP then we have to maximize the recall and in this case recall turns out to be best metric\n",
    "IF FP > FN maximize preciison in this case preciisn turns out to be the best metric.\n",
    "If the data is imbalanced and is not adressed then accuracy or auc-roc can be considered.\n",
    "How ever we handled the data imbalance and want to leverage the effects of  both FP FN equally so we are considering F1 score as best metric.\n"
   ]
  },
  {
   "cell_type": "markdown",
   "id": "e35166f6-24d0-4ef4-9468-6fcd5b5dfd29",
   "metadata": {
    "tags": []
   },
   "source": [
    "### CHoosing the best model :\n",
    "\n",
    "1. we can do hyper parameter tuning using randomized search cv or grid search cv for furthur enhancement or improviizng the results.\n",
    "2. How ever as of the results that we observe the deciison tree is the model of highest f1 score best metric of 86.70\n",
    "3 So, finally we can say deciison trees are best model and f1 score is best metric"
   ]
  }
 ],
 "metadata": {
  "kernelspec": {
   "display_name": "Python 3 (ipykernel)",
   "language": "python",
   "name": "python3"
  },
  "language_info": {
   "codemirror_mode": {
    "name": "ipython",
    "version": 3
   },
   "file_extension": ".py",
   "mimetype": "text/x-python",
   "name": "python",
   "nbconvert_exporter": "python",
   "pygments_lexer": "ipython3",
   "version": "3.10.12"
  }
 },
 "nbformat": 4,
 "nbformat_minor": 5
}
